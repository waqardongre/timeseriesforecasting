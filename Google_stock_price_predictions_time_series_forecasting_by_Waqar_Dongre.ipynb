{
  "nbformat": 4,
  "nbformat_minor": 0,
  "metadata": {
    "colab": {
      "name": "Google_stock_price_predictions_time_series_forecasting_by_Waqar_Dongre_2.ipynb",
      "provenance": [],
      "collapsed_sections": []
    },
    "kernelspec": {
      "name": "python3",
      "display_name": "Python 3"
    },
    "accelerator": "GPU"
  },
  "cells": [
    {
      "cell_type": "markdown",
      "metadata": {
        "id": "xpAuMVCwfWs8"
      },
      "source": [
        "# Time Series Forecasting Using Recurrent Neural Network - LSTMs - By Waqar Dongre"
      ]
    },
    {
      "cell_type": "markdown",
      "metadata": {
        "id": "ir9zwETrfbrp"
      },
      "source": [
        "### Importing the libraries"
      ]
    },
    {
      "cell_type": "code",
      "metadata": {
        "id": "ZT1f24vHffuf"
      },
      "source": [
        "import numpy as np\n",
        "import matplotlib.pyplot as plt\n",
        "import pandas as pd\n",
        "from sklearn.metrics import mean_squared_error\n",
        "\n",
        "from sklearn.preprocessing import MinMaxScaler\n",
        "\n",
        "from keras.models import Sequential\n",
        "from keras.layers import Dense\n",
        "from keras.layers import LSTM\n",
        "from keras.layers import Dropout\n",
        "\n",
        "from tensorflow import keras\n",
        "\n",
        "import math\n",
        "from sklearn.metrics import mean_squared_error"
      ],
      "execution_count": 1,
      "outputs": []
    },
    {
      "cell_type": "code",
      "source": [
        "from google.colab import drive\n",
        "drive.mount('/content/drive')"
      ],
      "metadata": {
        "id": "kvpbUSIdY_Bf",
        "colab": {
          "base_uri": "https://localhost:8080/"
        },
        "outputId": "348cafb5-4004-435c-fc75-a630652bc864"
      },
      "execution_count": 2,
      "outputs": [
        {
          "output_type": "stream",
          "name": "stdout",
          "text": [
            "Mounted at /content/drive\n"
          ]
        }
      ]
    },
    {
      "cell_type": "code",
      "source": [
        "drive_path = \"/content/drive/MyDrive/DSs/TimeSeries_DS_1/\""
      ],
      "metadata": {
        "id": "F9dxiuReHwEa"
      },
      "execution_count": 5,
      "outputs": []
    },
    {
      "cell_type": "markdown",
      "metadata": {
        "id": "nxJfRe4bfYVA"
      },
      "source": [
        "## Part 1 - Data Preprocessing"
      ]
    },
    {
      "cell_type": "markdown",
      "metadata": {
        "id": "nQ47JAxrgmaL"
      },
      "source": [
        "### Importing the training set"
      ]
    },
    {
      "cell_type": "code",
      "metadata": {
        "id": "1xiv3pJOgqY3"
      },
      "source": [
        "dataset_train = pd.read_csv(drive_path + 'Google_Stock_Price_Train.csv')\n",
        "training_set = dataset_train.iloc[:, 1:2].values"
      ],
      "execution_count": 6,
      "outputs": []
    },
    {
      "cell_type": "markdown",
      "metadata": {
        "id": "HT8_2UJegtG5"
      },
      "source": [
        "### Feature Scaling"
      ]
    },
    {
      "cell_type": "code",
      "source": [
        "dataset_train.head(3)"
      ],
      "metadata": {
        "id": "DYxQOzv4mfXV",
        "colab": {
          "base_uri": "https://localhost:8080/",
          "height": 143
        },
        "outputId": "154ee4e1-3152-4fdc-a0e5-7f7949d5a1cf"
      },
      "execution_count": 7,
      "outputs": [
        {
          "output_type": "execute_result",
          "data": {
            "text/html": [
              "\n",
              "  <div id=\"df-a67f40c9-2233-4b08-aad5-3c952feef230\">\n",
              "    <div class=\"colab-df-container\">\n",
              "      <div>\n",
              "<style scoped>\n",
              "    .dataframe tbody tr th:only-of-type {\n",
              "        vertical-align: middle;\n",
              "    }\n",
              "\n",
              "    .dataframe tbody tr th {\n",
              "        vertical-align: top;\n",
              "    }\n",
              "\n",
              "    .dataframe thead th {\n",
              "        text-align: right;\n",
              "    }\n",
              "</style>\n",
              "<table border=\"1\" class=\"dataframe\">\n",
              "  <thead>\n",
              "    <tr style=\"text-align: right;\">\n",
              "      <th></th>\n",
              "      <th>Date</th>\n",
              "      <th>Open</th>\n",
              "      <th>High</th>\n",
              "      <th>Low</th>\n",
              "      <th>Close</th>\n",
              "      <th>Volume</th>\n",
              "    </tr>\n",
              "  </thead>\n",
              "  <tbody>\n",
              "    <tr>\n",
              "      <th>0</th>\n",
              "      <td>1/3/2012</td>\n",
              "      <td>325.25</td>\n",
              "      <td>332.83</td>\n",
              "      <td>324.97</td>\n",
              "      <td>663.59</td>\n",
              "      <td>7,380,500</td>\n",
              "    </tr>\n",
              "    <tr>\n",
              "      <th>1</th>\n",
              "      <td>1/4/2012</td>\n",
              "      <td>331.27</td>\n",
              "      <td>333.87</td>\n",
              "      <td>329.08</td>\n",
              "      <td>666.45</td>\n",
              "      <td>5,749,400</td>\n",
              "    </tr>\n",
              "    <tr>\n",
              "      <th>2</th>\n",
              "      <td>1/5/2012</td>\n",
              "      <td>329.83</td>\n",
              "      <td>330.75</td>\n",
              "      <td>326.89</td>\n",
              "      <td>657.21</td>\n",
              "      <td>6,590,300</td>\n",
              "    </tr>\n",
              "  </tbody>\n",
              "</table>\n",
              "</div>\n",
              "      <button class=\"colab-df-convert\" onclick=\"convertToInteractive('df-a67f40c9-2233-4b08-aad5-3c952feef230')\"\n",
              "              title=\"Convert this dataframe to an interactive table.\"\n",
              "              style=\"display:none;\">\n",
              "        \n",
              "  <svg xmlns=\"http://www.w3.org/2000/svg\" height=\"24px\"viewBox=\"0 0 24 24\"\n",
              "       width=\"24px\">\n",
              "    <path d=\"M0 0h24v24H0V0z\" fill=\"none\"/>\n",
              "    <path d=\"M18.56 5.44l.94 2.06.94-2.06 2.06-.94-2.06-.94-.94-2.06-.94 2.06-2.06.94zm-11 1L8.5 8.5l.94-2.06 2.06-.94-2.06-.94L8.5 2.5l-.94 2.06-2.06.94zm10 10l.94 2.06.94-2.06 2.06-.94-2.06-.94-.94-2.06-.94 2.06-2.06.94z\"/><path d=\"M17.41 7.96l-1.37-1.37c-.4-.4-.92-.59-1.43-.59-.52 0-1.04.2-1.43.59L10.3 9.45l-7.72 7.72c-.78.78-.78 2.05 0 2.83L4 21.41c.39.39.9.59 1.41.59.51 0 1.02-.2 1.41-.59l7.78-7.78 2.81-2.81c.8-.78.8-2.07 0-2.86zM5.41 20L4 18.59l7.72-7.72 1.47 1.35L5.41 20z\"/>\n",
              "  </svg>\n",
              "      </button>\n",
              "      \n",
              "  <style>\n",
              "    .colab-df-container {\n",
              "      display:flex;\n",
              "      flex-wrap:wrap;\n",
              "      gap: 12px;\n",
              "    }\n",
              "\n",
              "    .colab-df-convert {\n",
              "      background-color: #E8F0FE;\n",
              "      border: none;\n",
              "      border-radius: 50%;\n",
              "      cursor: pointer;\n",
              "      display: none;\n",
              "      fill: #1967D2;\n",
              "      height: 32px;\n",
              "      padding: 0 0 0 0;\n",
              "      width: 32px;\n",
              "    }\n",
              "\n",
              "    .colab-df-convert:hover {\n",
              "      background-color: #E2EBFA;\n",
              "      box-shadow: 0px 1px 2px rgba(60, 64, 67, 0.3), 0px 1px 3px 1px rgba(60, 64, 67, 0.15);\n",
              "      fill: #174EA6;\n",
              "    }\n",
              "\n",
              "    [theme=dark] .colab-df-convert {\n",
              "      background-color: #3B4455;\n",
              "      fill: #D2E3FC;\n",
              "    }\n",
              "\n",
              "    [theme=dark] .colab-df-convert:hover {\n",
              "      background-color: #434B5C;\n",
              "      box-shadow: 0px 1px 3px 1px rgba(0, 0, 0, 0.15);\n",
              "      filter: drop-shadow(0px 1px 2px rgba(0, 0, 0, 0.3));\n",
              "      fill: #FFFFFF;\n",
              "    }\n",
              "  </style>\n",
              "\n",
              "      <script>\n",
              "        const buttonEl =\n",
              "          document.querySelector('#df-a67f40c9-2233-4b08-aad5-3c952feef230 button.colab-df-convert');\n",
              "        buttonEl.style.display =\n",
              "          google.colab.kernel.accessAllowed ? 'block' : 'none';\n",
              "\n",
              "        async function convertToInteractive(key) {\n",
              "          const element = document.querySelector('#df-a67f40c9-2233-4b08-aad5-3c952feef230');\n",
              "          const dataTable =\n",
              "            await google.colab.kernel.invokeFunction('convertToInteractive',\n",
              "                                                     [key], {});\n",
              "          if (!dataTable) return;\n",
              "\n",
              "          const docLinkHtml = 'Like what you see? Visit the ' +\n",
              "            '<a target=\"_blank\" href=https://colab.research.google.com/notebooks/data_table.ipynb>data table notebook</a>'\n",
              "            + ' to learn more about interactive tables.';\n",
              "          element.innerHTML = '';\n",
              "          dataTable['output_type'] = 'display_data';\n",
              "          await google.colab.output.renderOutput(dataTable, element);\n",
              "          const docLink = document.createElement('div');\n",
              "          docLink.innerHTML = docLinkHtml;\n",
              "          element.appendChild(docLink);\n",
              "        }\n",
              "      </script>\n",
              "    </div>\n",
              "  </div>\n",
              "  "
            ],
            "text/plain": [
              "       Date    Open    High     Low   Close     Volume\n",
              "0  1/3/2012  325.25  332.83  324.97  663.59  7,380,500\n",
              "1  1/4/2012  331.27  333.87  329.08  666.45  5,749,400\n",
              "2  1/5/2012  329.83  330.75  326.89  657.21  6,590,300"
            ]
          },
          "metadata": {},
          "execution_count": 7
        }
      ]
    },
    {
      "cell_type": "code",
      "source": [
        "dataset_train.shape, training_set.shape"
      ],
      "metadata": {
        "id": "20rridc3oD9Y",
        "colab": {
          "base_uri": "https://localhost:8080/"
        },
        "outputId": "cb10d4fa-a910-4cc4-f225-74e06e56e47e"
      },
      "execution_count": 8,
      "outputs": [
        {
          "output_type": "execute_result",
          "data": {
            "text/plain": [
              "((1258, 6), (1258, 1))"
            ]
          },
          "metadata": {},
          "execution_count": 8
        }
      ]
    },
    {
      "cell_type": "code",
      "source": [
        "training_set[: 3]"
      ],
      "metadata": {
        "id": "CH96AX7wmhuc",
        "colab": {
          "base_uri": "https://localhost:8080/"
        },
        "outputId": "a1ba5a01-6ef9-4c46-da77-ae7b62f26514"
      },
      "execution_count": 9,
      "outputs": [
        {
          "output_type": "execute_result",
          "data": {
            "text/plain": [
              "array([[325.25],\n",
              "       [331.27],\n",
              "       [329.83]])"
            ]
          },
          "metadata": {},
          "execution_count": 9
        }
      ]
    },
    {
      "cell_type": "markdown",
      "source": [
        "### Scaling"
      ],
      "metadata": {
        "id": "OWxAVP1L2Ryy"
      }
    },
    {
      "cell_type": "code",
      "metadata": {
        "id": "OTrF2kR7gx9x"
      },
      "source": [
        "sc = MinMaxScaler(feature_range = (0, 1))\n",
        "training_set_scaled = sc.fit_transform(training_set)"
      ],
      "execution_count": 10,
      "outputs": []
    },
    {
      "cell_type": "markdown",
      "metadata": {
        "id": "JyYgYocqhNUg"
      },
      "source": [
        "### Creating a data structure with 120 timesteps and 1 output"
      ]
    },
    {
      "cell_type": "code",
      "metadata": {
        "id": "iofU21B0i6ST"
      },
      "source": [
        "X_train = []\n",
        "y_train = []\n",
        "for i in range(120, 1258):\n",
        "    X_train.append(training_set_scaled[i-120:i, 0])\n",
        "    y_train.append(training_set_scaled[i, 0])\n",
        "X_train, y_train = np.array(X_train), np.array(y_train)"
      ],
      "execution_count": 11,
      "outputs": []
    },
    {
      "cell_type": "markdown",
      "metadata": {
        "id": "D8yaN7Zvi95l"
      },
      "source": [
        "### Reshaping"
      ]
    },
    {
      "cell_type": "code",
      "metadata": {
        "id": "FOXqJHmNjBkz"
      },
      "source": [
        "X_train = np.reshape(X_train, (X_train.shape[0], X_train.shape[1], 1))"
      ],
      "execution_count": 12,
      "outputs": []
    },
    {
      "cell_type": "code",
      "source": [
        "X_train.shape"
      ],
      "metadata": {
        "id": "b8BOPtnM8lGc",
        "colab": {
          "base_uri": "https://localhost:8080/"
        },
        "outputId": "6b8860f5-c081-4858-83b6-ae88a6ad7d8a"
      },
      "execution_count": 13,
      "outputs": [
        {
          "output_type": "execute_result",
          "data": {
            "text/plain": [
              "(1138, 120, 1)"
            ]
          },
          "metadata": {},
          "execution_count": 13
        }
      ]
    },
    {
      "cell_type": "code",
      "source": [
        "y_train.shape"
      ],
      "metadata": {
        "id": "mcQBFiUV8moN",
        "colab": {
          "base_uri": "https://localhost:8080/"
        },
        "outputId": "a8f47bb9-7c82-49cb-8df5-1fa0173d5e51"
      },
      "execution_count": 14,
      "outputs": [
        {
          "output_type": "execute_result",
          "data": {
            "text/plain": [
              "(1138,)"
            ]
          },
          "metadata": {},
          "execution_count": 14
        }
      ]
    },
    {
      "cell_type": "markdown",
      "metadata": {
        "id": "ZRRSOJeVjEWV"
      },
      "source": [
        "## Part 2 - Building and Training the RNN"
      ]
    },
    {
      "cell_type": "markdown",
      "metadata": {
        "id": "FEIE-1s9jNzC"
      },
      "source": [
        "### Initialising the RNN"
      ]
    },
    {
      "cell_type": "code",
      "metadata": {
        "id": "1338dJ0UjRKH"
      },
      "source": [
        "regressor = Sequential()"
      ],
      "execution_count": 38,
      "outputs": []
    },
    {
      "cell_type": "markdown",
      "metadata": {
        "id": "62eg1OPGjT8z"
      },
      "source": [
        "### Adding the 1st LSTM layer and some Dropout regularisation"
      ]
    },
    {
      "cell_type": "code",
      "metadata": {
        "id": "2hIinyXUjbVU"
      },
      "source": [
        "regressor.add(LSTM(units = 300, return_sequences = True, input_shape = (X_train.shape[1], 1)))\n",
        "regressor.add(Dropout(0.2))"
      ],
      "execution_count": 39,
      "outputs": []
    },
    {
      "cell_type": "markdown",
      "metadata": {
        "id": "3XBIYLyOjlMx"
      },
      "source": [
        "### Adding a 2nd LSTM layer and some Dropout regularisation"
      ]
    },
    {
      "cell_type": "code",
      "metadata": {
        "id": "UG7nrVaSjuZ2"
      },
      "source": [
        "regressor.add(LSTM(units = 300, return_sequences = True))\n",
        "regressor.add(Dropout(0.2))"
      ],
      "execution_count": 40,
      "outputs": []
    },
    {
      "cell_type": "markdown",
      "metadata": {
        "id": "Ey3fHVnGj1cu"
      },
      "source": [
        "### Adding a 3rd LSTM layer and some Dropout regularisation"
      ]
    },
    {
      "cell_type": "code",
      "metadata": {
        "id": "PuNi6PgFj7jO"
      },
      "source": [
        "regressor.add(LSTM(units = 300, return_sequences = True))\n",
        "regressor.add(Dropout(0.2))"
      ],
      "execution_count": 41,
      "outputs": []
    },
    {
      "cell_type": "markdown",
      "metadata": {
        "id": "SYTrtfTmj933"
      },
      "source": [
        "### Adding a 4th LSTM layer and some Dropout regularisation"
      ]
    },
    {
      "cell_type": "code",
      "metadata": {
        "id": "Jp4Ty8fRkBYV"
      },
      "source": [
        "regressor.add(LSTM(units = 300, return_sequences = True))\n",
        "regressor.add(Dropout(0.2))"
      ],
      "execution_count": 42,
      "outputs": []
    },
    {
      "cell_type": "markdown",
      "metadata": {
        "id": "WtxlrgHdyrNC"
      },
      "source": [
        "### Adding a 5th LSTM layer and some Dropout regularisation"
      ]
    },
    {
      "cell_type": "code",
      "metadata": {
        "id": "k17VqqXpyrND"
      },
      "source": [
        "regressor.add(LSTM(units = 300, return_sequences = True))\n",
        "regressor.add(Dropout(0.2))"
      ],
      "execution_count": 43,
      "outputs": []
    },
    {
      "cell_type": "markdown",
      "metadata": {
        "id": "mitJYTrwyrss"
      },
      "source": [
        "### Adding a 6th LSTM layer and some Dropout regularisation"
      ]
    },
    {
      "cell_type": "code",
      "metadata": {
        "id": "0PR9uGe-yrss"
      },
      "source": [
        "regressor.add(LSTM(units = 300, return_sequences = True))\n",
        "regressor.add(Dropout(0.2))"
      ],
      "execution_count": 44,
      "outputs": []
    },
    {
      "cell_type": "markdown",
      "metadata": {
        "id": "qZThLA8Be0AK"
      },
      "source": [
        "### Adding a 7th LSTM layer and some Dropout regularisation"
      ]
    },
    {
      "cell_type": "code",
      "metadata": {
        "id": "9B6bXYL1e0AK"
      },
      "source": [
        "regressor.add(LSTM(units = 300))\n",
        "regressor.add(Dropout(0.2))"
      ],
      "execution_count": 45,
      "outputs": []
    },
    {
      "cell_type": "markdown",
      "metadata": {
        "id": "9ABI6rOIkHhk"
      },
      "source": [
        "### Adding the output layer"
      ]
    },
    {
      "cell_type": "code",
      "metadata": {
        "id": "aM6R1z4WkME8"
      },
      "source": [
        "regressor.add(Dense(units = 1))"
      ],
      "execution_count": 46,
      "outputs": []
    },
    {
      "cell_type": "markdown",
      "metadata": {
        "id": "zLx4K7uUkPSh"
      },
      "source": [
        "### Compiling the RNN"
      ]
    },
    {
      "cell_type": "code",
      "metadata": {
        "id": "XTrhVN-tkbko"
      },
      "source": [
        "regressor.compile(optimizer = 'adam', loss = 'mean_squared_error')"
      ],
      "execution_count": 47,
      "outputs": []
    },
    {
      "cell_type": "markdown",
      "metadata": {
        "id": "-mPhwKGkkebi"
      },
      "source": [
        "### Fitting the RNN to the Training set"
      ]
    },
    {
      "cell_type": "code",
      "metadata": {
        "id": "I06Nkrz5kkb-",
        "colab": {
          "base_uri": "https://localhost:8080/"
        },
        "outputId": "ed77cd0b-c22a-4b9b-b618-9101ea77d560"
      },
      "source": [
        "regressor.fit(X_train, y_train, epochs = 200, batch_size = 50)"
      ],
      "execution_count": 48,
      "outputs": [
        {
          "output_type": "stream",
          "name": "stdout",
          "text": [
            "Epoch 1/200\n",
            "23/23 [==============================] - 19s 307ms/step - loss: 0.9630\n",
            "Epoch 2/200\n",
            "23/23 [==============================] - 7s 303ms/step - loss: 0.0254\n",
            "Epoch 3/200\n",
            "23/23 [==============================] - 7s 303ms/step - loss: 0.0072\n",
            "Epoch 4/200\n",
            "23/23 [==============================] - 7s 303ms/step - loss: 0.0057\n",
            "Epoch 5/200\n",
            "23/23 [==============================] - 7s 303ms/step - loss: 0.0050\n",
            "Epoch 6/200\n",
            "23/23 [==============================] - 7s 302ms/step - loss: 0.0044\n",
            "Epoch 7/200\n",
            "23/23 [==============================] - 7s 303ms/step - loss: 0.0047\n",
            "Epoch 8/200\n",
            "23/23 [==============================] - 7s 303ms/step - loss: 0.0040\n",
            "Epoch 9/200\n",
            "23/23 [==============================] - 7s 303ms/step - loss: 0.0042\n",
            "Epoch 10/200\n",
            "23/23 [==============================] - 7s 303ms/step - loss: 0.0045\n",
            "Epoch 11/200\n",
            "23/23 [==============================] - 7s 303ms/step - loss: 0.0038\n",
            "Epoch 12/200\n",
            "23/23 [==============================] - 7s 303ms/step - loss: 0.0040\n",
            "Epoch 13/200\n",
            "23/23 [==============================] - 7s 303ms/step - loss: 0.0037\n",
            "Epoch 14/200\n",
            "23/23 [==============================] - 7s 302ms/step - loss: 0.0038\n",
            "Epoch 15/200\n",
            "23/23 [==============================] - 7s 302ms/step - loss: 0.0037\n",
            "Epoch 16/200\n",
            "23/23 [==============================] - 7s 303ms/step - loss: 0.0038\n",
            "Epoch 17/200\n",
            "23/23 [==============================] - 7s 302ms/step - loss: 0.0036\n",
            "Epoch 18/200\n",
            "23/23 [==============================] - 7s 302ms/step - loss: 0.0042\n",
            "Epoch 19/200\n",
            "23/23 [==============================] - 7s 303ms/step - loss: 0.0033\n",
            "Epoch 20/200\n",
            "23/23 [==============================] - 7s 303ms/step - loss: 0.0033\n",
            "Epoch 21/200\n",
            "23/23 [==============================] - 7s 303ms/step - loss: 0.0040\n",
            "Epoch 22/200\n",
            "23/23 [==============================] - 7s 303ms/step - loss: 0.0031\n",
            "Epoch 23/200\n",
            "23/23 [==============================] - 7s 303ms/step - loss: 0.0029\n",
            "Epoch 24/200\n",
            "23/23 [==============================] - 7s 303ms/step - loss: 0.0030\n",
            "Epoch 25/200\n",
            "23/23 [==============================] - 7s 303ms/step - loss: 0.0034\n",
            "Epoch 26/200\n",
            "23/23 [==============================] - 7s 303ms/step - loss: 0.0030\n",
            "Epoch 27/200\n",
            "23/23 [==============================] - 7s 304ms/step - loss: 0.0027\n",
            "Epoch 28/200\n",
            "23/23 [==============================] - 7s 303ms/step - loss: 0.0029\n",
            "Epoch 29/200\n",
            "23/23 [==============================] - 7s 302ms/step - loss: 0.0027\n",
            "Epoch 30/200\n",
            "23/23 [==============================] - 7s 302ms/step - loss: 0.0025\n",
            "Epoch 31/200\n",
            "23/23 [==============================] - 7s 303ms/step - loss: 0.0027\n",
            "Epoch 32/200\n",
            "23/23 [==============================] - 7s 304ms/step - loss: 0.0028\n",
            "Epoch 33/200\n",
            "23/23 [==============================] - 7s 303ms/step - loss: 0.0026\n",
            "Epoch 34/200\n",
            "23/23 [==============================] - 7s 303ms/step - loss: 0.0036\n",
            "Epoch 35/200\n",
            "23/23 [==============================] - 7s 303ms/step - loss: 0.0029\n",
            "Epoch 36/200\n",
            "23/23 [==============================] - 7s 303ms/step - loss: 0.0024\n",
            "Epoch 37/200\n",
            "23/23 [==============================] - 7s 302ms/step - loss: 0.0025\n",
            "Epoch 38/200\n",
            "23/23 [==============================] - 7s 304ms/step - loss: 0.0029\n",
            "Epoch 39/200\n",
            "23/23 [==============================] - 7s 303ms/step - loss: 0.0026\n",
            "Epoch 40/200\n",
            "23/23 [==============================] - 7s 303ms/step - loss: 0.0026\n",
            "Epoch 41/200\n",
            "23/23 [==============================] - 7s 304ms/step - loss: 0.0025\n",
            "Epoch 42/200\n",
            "23/23 [==============================] - 7s 304ms/step - loss: 0.0025\n",
            "Epoch 43/200\n",
            "23/23 [==============================] - 7s 304ms/step - loss: 0.0026\n",
            "Epoch 44/200\n",
            "23/23 [==============================] - 7s 304ms/step - loss: 0.0024\n",
            "Epoch 45/200\n",
            "23/23 [==============================] - 7s 303ms/step - loss: 0.0024\n",
            "Epoch 46/200\n",
            "23/23 [==============================] - 7s 304ms/step - loss: 0.0023\n",
            "Epoch 47/200\n",
            "23/23 [==============================] - 7s 303ms/step - loss: 0.0023\n",
            "Epoch 48/200\n",
            "23/23 [==============================] - 7s 302ms/step - loss: 0.0022\n",
            "Epoch 49/200\n",
            "23/23 [==============================] - 7s 303ms/step - loss: 0.0023\n",
            "Epoch 50/200\n",
            "23/23 [==============================] - 7s 303ms/step - loss: 0.0022\n",
            "Epoch 51/200\n",
            "23/23 [==============================] - 7s 303ms/step - loss: 0.0024\n",
            "Epoch 52/200\n",
            "23/23 [==============================] - 7s 303ms/step - loss: 0.0023\n",
            "Epoch 53/200\n",
            "23/23 [==============================] - 7s 302ms/step - loss: 0.0024\n",
            "Epoch 54/200\n",
            "23/23 [==============================] - 7s 303ms/step - loss: 0.0021\n",
            "Epoch 55/200\n",
            "23/23 [==============================] - 7s 303ms/step - loss: 0.0029\n",
            "Epoch 56/200\n",
            "23/23 [==============================] - 7s 303ms/step - loss: 0.0024\n",
            "Epoch 57/200\n",
            "23/23 [==============================] - 7s 303ms/step - loss: 0.0021\n",
            "Epoch 58/200\n",
            "23/23 [==============================] - 7s 303ms/step - loss: 0.0025\n",
            "Epoch 59/200\n",
            "23/23 [==============================] - 7s 305ms/step - loss: 0.0022\n",
            "Epoch 60/200\n",
            "23/23 [==============================] - 7s 304ms/step - loss: 0.0025\n",
            "Epoch 61/200\n",
            "23/23 [==============================] - 7s 304ms/step - loss: 0.0025\n",
            "Epoch 62/200\n",
            "23/23 [==============================] - 7s 304ms/step - loss: 0.0021\n",
            "Epoch 63/200\n",
            "23/23 [==============================] - 7s 304ms/step - loss: 0.0022\n",
            "Epoch 64/200\n",
            "23/23 [==============================] - 7s 305ms/step - loss: 0.0023\n",
            "Epoch 65/200\n",
            "23/23 [==============================] - 7s 303ms/step - loss: 0.0020\n",
            "Epoch 66/200\n",
            "23/23 [==============================] - 7s 303ms/step - loss: 0.0022\n",
            "Epoch 67/200\n",
            "23/23 [==============================] - 7s 304ms/step - loss: 0.0019\n",
            "Epoch 68/200\n",
            "23/23 [==============================] - 7s 304ms/step - loss: 0.0022\n",
            "Epoch 69/200\n",
            "23/23 [==============================] - 7s 303ms/step - loss: 0.0021\n",
            "Epoch 70/200\n",
            "23/23 [==============================] - 7s 303ms/step - loss: 0.0021\n",
            "Epoch 71/200\n",
            "23/23 [==============================] - 7s 304ms/step - loss: 0.0019\n",
            "Epoch 72/200\n",
            "23/23 [==============================] - 7s 304ms/step - loss: 0.0019\n",
            "Epoch 73/200\n",
            "23/23 [==============================] - 7s 304ms/step - loss: 0.0016\n",
            "Epoch 74/200\n",
            "23/23 [==============================] - 7s 304ms/step - loss: 0.0018\n",
            "Epoch 75/200\n",
            "23/23 [==============================] - 7s 305ms/step - loss: 0.0021\n",
            "Epoch 76/200\n",
            "23/23 [==============================] - 7s 304ms/step - loss: 0.0020\n",
            "Epoch 77/200\n",
            "23/23 [==============================] - 7s 305ms/step - loss: 0.0024\n",
            "Epoch 78/200\n",
            "23/23 [==============================] - 7s 304ms/step - loss: 0.0016\n",
            "Epoch 79/200\n",
            "23/23 [==============================] - 7s 303ms/step - loss: 0.0019\n",
            "Epoch 80/200\n",
            "23/23 [==============================] - 7s 304ms/step - loss: 0.0017\n",
            "Epoch 81/200\n",
            "23/23 [==============================] - 7s 305ms/step - loss: 0.0018\n",
            "Epoch 82/200\n",
            "23/23 [==============================] - 7s 304ms/step - loss: 0.0016\n",
            "Epoch 83/200\n",
            "23/23 [==============================] - 7s 304ms/step - loss: 0.0019\n",
            "Epoch 84/200\n",
            "23/23 [==============================] - 7s 303ms/step - loss: 0.0026\n",
            "Epoch 85/200\n",
            "23/23 [==============================] - 7s 299ms/step - loss: 0.0017\n",
            "Epoch 86/200\n",
            "23/23 [==============================] - 7s 302ms/step - loss: 0.0016\n",
            "Epoch 87/200\n",
            "23/23 [==============================] - 7s 304ms/step - loss: 0.0015\n",
            "Epoch 88/200\n",
            "23/23 [==============================] - 7s 305ms/step - loss: 0.0013\n",
            "Epoch 89/200\n",
            "23/23 [==============================] - 7s 302ms/step - loss: 0.0013\n",
            "Epoch 90/200\n",
            "23/23 [==============================] - 7s 302ms/step - loss: 0.0015\n",
            "Epoch 91/200\n",
            "23/23 [==============================] - 7s 304ms/step - loss: 0.0017\n",
            "Epoch 92/200\n",
            "23/23 [==============================] - 7s 304ms/step - loss: 0.0018\n",
            "Epoch 93/200\n",
            "23/23 [==============================] - 7s 304ms/step - loss: 0.0014\n",
            "Epoch 94/200\n",
            "23/23 [==============================] - 7s 305ms/step - loss: 0.0014\n",
            "Epoch 95/200\n",
            "23/23 [==============================] - 7s 303ms/step - loss: 0.0015\n",
            "Epoch 96/200\n",
            "23/23 [==============================] - 7s 304ms/step - loss: 0.0016\n",
            "Epoch 97/200\n",
            "23/23 [==============================] - 7s 302ms/step - loss: 0.0014\n",
            "Epoch 98/200\n",
            "23/23 [==============================] - 7s 305ms/step - loss: 0.0017\n",
            "Epoch 99/200\n",
            "23/23 [==============================] - 7s 305ms/step - loss: 0.0015\n",
            "Epoch 100/200\n",
            "23/23 [==============================] - 7s 305ms/step - loss: 0.0013\n",
            "Epoch 101/200\n",
            "23/23 [==============================] - 7s 305ms/step - loss: 0.0012\n",
            "Epoch 102/200\n",
            "23/23 [==============================] - 7s 306ms/step - loss: 0.0015\n",
            "Epoch 103/200\n",
            "23/23 [==============================] - 7s 304ms/step - loss: 0.0016\n",
            "Epoch 104/200\n",
            "23/23 [==============================] - 7s 303ms/step - loss: 0.0014\n",
            "Epoch 105/200\n",
            "23/23 [==============================] - 7s 303ms/step - loss: 0.0014\n",
            "Epoch 106/200\n",
            "23/23 [==============================] - 7s 303ms/step - loss: 0.0013\n",
            "Epoch 107/200\n",
            "23/23 [==============================] - 7s 304ms/step - loss: 0.0013\n",
            "Epoch 108/200\n",
            "23/23 [==============================] - 7s 303ms/step - loss: 0.0014\n",
            "Epoch 109/200\n",
            "23/23 [==============================] - 7s 303ms/step - loss: 0.0012\n",
            "Epoch 110/200\n",
            "23/23 [==============================] - 7s 304ms/step - loss: 0.0011\n",
            "Epoch 111/200\n",
            "23/23 [==============================] - 7s 304ms/step - loss: 0.0014\n",
            "Epoch 112/200\n",
            "23/23 [==============================] - 7s 304ms/step - loss: 0.0014\n",
            "Epoch 113/200\n",
            "23/23 [==============================] - 7s 303ms/step - loss: 0.0013\n",
            "Epoch 114/200\n",
            "23/23 [==============================] - 7s 304ms/step - loss: 0.0012\n",
            "Epoch 115/200\n",
            "23/23 [==============================] - 7s 304ms/step - loss: 0.0012\n",
            "Epoch 116/200\n",
            "23/23 [==============================] - 7s 305ms/step - loss: 0.0011\n",
            "Epoch 117/200\n",
            "23/23 [==============================] - 7s 305ms/step - loss: 0.0011\n",
            "Epoch 118/200\n",
            "23/23 [==============================] - 7s 304ms/step - loss: 0.0012\n",
            "Epoch 119/200\n",
            "23/23 [==============================] - 7s 305ms/step - loss: 0.0011\n",
            "Epoch 120/200\n",
            "23/23 [==============================] - 7s 304ms/step - loss: 0.0011\n",
            "Epoch 121/200\n",
            "23/23 [==============================] - 7s 304ms/step - loss: 0.0013\n",
            "Epoch 122/200\n",
            "23/23 [==============================] - 7s 304ms/step - loss: 0.0012\n",
            "Epoch 123/200\n",
            "23/23 [==============================] - 7s 304ms/step - loss: 0.0011\n",
            "Epoch 124/200\n",
            "23/23 [==============================] - 7s 306ms/step - loss: 0.0014\n",
            "Epoch 125/200\n",
            "23/23 [==============================] - 7s 305ms/step - loss: 0.0015\n",
            "Epoch 126/200\n",
            "23/23 [==============================] - 7s 306ms/step - loss: 0.0012\n",
            "Epoch 127/200\n",
            "23/23 [==============================] - 7s 305ms/step - loss: 0.0014\n",
            "Epoch 128/200\n",
            "23/23 [==============================] - 7s 305ms/step - loss: 0.0012\n",
            "Epoch 129/200\n",
            "23/23 [==============================] - 7s 306ms/step - loss: 0.0012\n",
            "Epoch 130/200\n",
            "23/23 [==============================] - 7s 304ms/step - loss: 0.0012\n",
            "Epoch 131/200\n",
            "23/23 [==============================] - 7s 305ms/step - loss: 9.8122e-04\n",
            "Epoch 132/200\n",
            "23/23 [==============================] - 7s 304ms/step - loss: 0.0013\n",
            "Epoch 133/200\n",
            "23/23 [==============================] - 7s 305ms/step - loss: 0.0012\n",
            "Epoch 134/200\n",
            "23/23 [==============================] - 7s 305ms/step - loss: 0.0013\n",
            "Epoch 135/200\n",
            "23/23 [==============================] - 7s 304ms/step - loss: 0.0015\n",
            "Epoch 136/200\n",
            "23/23 [==============================] - 7s 304ms/step - loss: 0.0014\n",
            "Epoch 137/200\n",
            "23/23 [==============================] - 7s 304ms/step - loss: 0.0012\n",
            "Epoch 138/200\n",
            "23/23 [==============================] - 7s 304ms/step - loss: 0.0011\n",
            "Epoch 139/200\n",
            "23/23 [==============================] - 7s 304ms/step - loss: 0.0011\n",
            "Epoch 140/200\n",
            "23/23 [==============================] - 7s 304ms/step - loss: 0.0011\n",
            "Epoch 141/200\n",
            "23/23 [==============================] - 7s 306ms/step - loss: 0.0011\n",
            "Epoch 142/200\n",
            "23/23 [==============================] - 7s 304ms/step - loss: 0.0011\n",
            "Epoch 143/200\n",
            "23/23 [==============================] - 7s 305ms/step - loss: 0.0011\n",
            "Epoch 144/200\n",
            "23/23 [==============================] - 7s 305ms/step - loss: 0.0012\n",
            "Epoch 145/200\n",
            "23/23 [==============================] - 7s 305ms/step - loss: 0.0013\n",
            "Epoch 146/200\n",
            "23/23 [==============================] - 7s 304ms/step - loss: 0.0011\n",
            "Epoch 147/200\n",
            "23/23 [==============================] - 7s 302ms/step - loss: 0.0011\n",
            "Epoch 148/200\n",
            "23/23 [==============================] - 7s 303ms/step - loss: 0.0013\n",
            "Epoch 149/200\n",
            "23/23 [==============================] - 7s 302ms/step - loss: 0.0011\n",
            "Epoch 150/200\n",
            "23/23 [==============================] - 7s 302ms/step - loss: 0.0012\n",
            "Epoch 151/200\n",
            "23/23 [==============================] - 7s 302ms/step - loss: 0.0011\n",
            "Epoch 152/200\n",
            "23/23 [==============================] - 7s 302ms/step - loss: 0.0011\n",
            "Epoch 153/200\n",
            "23/23 [==============================] - 7s 303ms/step - loss: 0.0012\n",
            "Epoch 154/200\n",
            "23/23 [==============================] - 7s 305ms/step - loss: 0.0011\n",
            "Epoch 155/200\n",
            "23/23 [==============================] - 7s 305ms/step - loss: 0.0010\n",
            "Epoch 156/200\n",
            "23/23 [==============================] - 7s 304ms/step - loss: 9.9712e-04\n",
            "Epoch 157/200\n",
            "23/23 [==============================] - 7s 305ms/step - loss: 0.0010\n",
            "Epoch 158/200\n",
            "23/23 [==============================] - 7s 304ms/step - loss: 9.7138e-04\n",
            "Epoch 159/200\n",
            "23/23 [==============================] - 7s 304ms/step - loss: 0.0010\n",
            "Epoch 160/200\n",
            "23/23 [==============================] - 7s 305ms/step - loss: 9.9988e-04\n",
            "Epoch 161/200\n",
            "23/23 [==============================] - 7s 303ms/step - loss: 0.0010\n",
            "Epoch 162/200\n",
            "23/23 [==============================] - 7s 304ms/step - loss: 0.0010\n",
            "Epoch 163/200\n",
            "23/23 [==============================] - 7s 304ms/step - loss: 0.0010\n",
            "Epoch 164/200\n",
            "23/23 [==============================] - 7s 304ms/step - loss: 9.4833e-04\n",
            "Epoch 165/200\n",
            "23/23 [==============================] - 7s 302ms/step - loss: 0.0011\n",
            "Epoch 166/200\n",
            "23/23 [==============================] - 7s 304ms/step - loss: 9.7801e-04\n",
            "Epoch 167/200\n",
            "23/23 [==============================] - 7s 305ms/step - loss: 9.3781e-04\n",
            "Epoch 168/200\n",
            "23/23 [==============================] - 7s 305ms/step - loss: 0.0011\n",
            "Epoch 169/200\n",
            "23/23 [==============================] - 7s 304ms/step - loss: 0.0013\n",
            "Epoch 170/200\n",
            "23/23 [==============================] - 7s 303ms/step - loss: 0.0011\n",
            "Epoch 171/200\n",
            "23/23 [==============================] - 7s 304ms/step - loss: 9.6696e-04\n",
            "Epoch 172/200\n",
            "23/23 [==============================] - 7s 304ms/step - loss: 0.0010\n",
            "Epoch 173/200\n",
            "23/23 [==============================] - 7s 304ms/step - loss: 0.0011\n",
            "Epoch 174/200\n",
            "23/23 [==============================] - 7s 305ms/step - loss: 0.0014\n",
            "Epoch 175/200\n",
            "23/23 [==============================] - 7s 305ms/step - loss: 0.0016\n",
            "Epoch 176/200\n",
            "23/23 [==============================] - 7s 304ms/step - loss: 0.0019\n",
            "Epoch 177/200\n",
            "23/23 [==============================] - 7s 305ms/step - loss: 0.0010\n",
            "Epoch 178/200\n",
            "23/23 [==============================] - 7s 304ms/step - loss: 9.5701e-04\n",
            "Epoch 179/200\n",
            "23/23 [==============================] - 7s 305ms/step - loss: 9.9022e-04\n",
            "Epoch 180/200\n",
            "23/23 [==============================] - 7s 304ms/step - loss: 9.2198e-04\n",
            "Epoch 181/200\n",
            "23/23 [==============================] - 7s 305ms/step - loss: 0.0010\n",
            "Epoch 182/200\n",
            "23/23 [==============================] - 7s 304ms/step - loss: 0.0015\n",
            "Epoch 183/200\n",
            "23/23 [==============================] - 7s 304ms/step - loss: 0.0015\n",
            "Epoch 184/200\n",
            "23/23 [==============================] - 7s 304ms/step - loss: 0.0011\n",
            "Epoch 185/200\n",
            "23/23 [==============================] - 7s 305ms/step - loss: 9.3615e-04\n",
            "Epoch 186/200\n",
            "23/23 [==============================] - 7s 304ms/step - loss: 8.6898e-04\n",
            "Epoch 187/200\n",
            "23/23 [==============================] - 7s 303ms/step - loss: 9.1571e-04\n",
            "Epoch 188/200\n",
            "23/23 [==============================] - 7s 304ms/step - loss: 9.0610e-04\n",
            "Epoch 189/200\n",
            "23/23 [==============================] - 7s 305ms/step - loss: 8.9033e-04\n",
            "Epoch 190/200\n",
            "23/23 [==============================] - 7s 304ms/step - loss: 9.2228e-04\n",
            "Epoch 191/200\n",
            "23/23 [==============================] - 7s 305ms/step - loss: 9.0528e-04\n",
            "Epoch 192/200\n",
            "23/23 [==============================] - 7s 304ms/step - loss: 8.9602e-04\n",
            "Epoch 193/200\n",
            "23/23 [==============================] - 7s 305ms/step - loss: 0.0011\n",
            "Epoch 194/200\n",
            "23/23 [==============================] - 7s 305ms/step - loss: 0.0010\n",
            "Epoch 195/200\n",
            "23/23 [==============================] - 7s 304ms/step - loss: 0.0014\n",
            "Epoch 196/200\n",
            "23/23 [==============================] - 7s 305ms/step - loss: 0.0011\n",
            "Epoch 197/200\n",
            "23/23 [==============================] - 7s 304ms/step - loss: 8.4007e-04\n",
            "Epoch 198/200\n",
            "23/23 [==============================] - 7s 304ms/step - loss: 0.0010\n",
            "Epoch 199/200\n",
            "23/23 [==============================] - 7s 304ms/step - loss: 0.0013\n",
            "Epoch 200/200\n",
            "23/23 [==============================] - 7s 304ms/step - loss: 8.8313e-04\n"
          ]
        },
        {
          "output_type": "execute_result",
          "data": {
            "text/plain": [
              "<keras.callbacks.History at 0x7f4ce754c190>"
            ]
          },
          "metadata": {},
          "execution_count": 48
        }
      ]
    },
    {
      "cell_type": "markdown",
      "source": [
        "### Saving the model"
      ],
      "metadata": {
        "id": "h5LMNpsNAdin"
      }
    },
    {
      "cell_type": "code",
      "source": [
        "regressor.save(drive_path + 'LSTM_h5_model_4.h5')"
      ],
      "metadata": {
        "id": "1mFmpe_NAdLW"
      },
      "execution_count": 49,
      "outputs": []
    },
    {
      "cell_type": "markdown",
      "source": [
        "### Loading the model"
      ],
      "metadata": {
        "id": "uN7oSz-7CbSh"
      }
    },
    {
      "cell_type": "code",
      "source": [
        "#regressor = keras.models.load_model(drive_path + 'LSTM_h5_model_3.h5')"
      ],
      "metadata": {
        "id": "IRGuRg5cBSzM"
      },
      "execution_count": 50,
      "outputs": []
    },
    {
      "cell_type": "code",
      "source": [
        "regressor.get_config()"
      ],
      "metadata": {
        "id": "19h0r75HppwX",
        "colab": {
          "base_uri": "https://localhost:8080/"
        },
        "outputId": "0751fd40-a665-4455-83af-06a5e90bcac9"
      },
      "execution_count": 51,
      "outputs": [
        {
          "output_type": "execute_result",
          "data": {
            "text/plain": [
              "{'layers': [{'class_name': 'InputLayer',\n",
              "   'config': {'batch_input_shape': (None, 120, 1),\n",
              "    'dtype': 'float32',\n",
              "    'name': 'lstm_9_input',\n",
              "    'ragged': False,\n",
              "    'sparse': False}},\n",
              "  {'class_name': 'LSTM',\n",
              "   'config': {'activation': 'tanh',\n",
              "    'activity_regularizer': None,\n",
              "    'batch_input_shape': (None, 120, 1),\n",
              "    'bias_constraint': None,\n",
              "    'bias_initializer': {'class_name': 'Zeros', 'config': {}},\n",
              "    'bias_regularizer': None,\n",
              "    'dropout': 0.0,\n",
              "    'dtype': 'float32',\n",
              "    'go_backwards': False,\n",
              "    'implementation': 2,\n",
              "    'kernel_constraint': None,\n",
              "    'kernel_initializer': {'class_name': 'GlorotUniform',\n",
              "     'config': {'seed': None}},\n",
              "    'kernel_regularizer': None,\n",
              "    'name': 'lstm_9',\n",
              "    'recurrent_activation': 'sigmoid',\n",
              "    'recurrent_constraint': None,\n",
              "    'recurrent_dropout': 0.0,\n",
              "    'recurrent_initializer': {'class_name': 'Orthogonal',\n",
              "     'config': {'gain': 1.0, 'seed': None}},\n",
              "    'recurrent_regularizer': None,\n",
              "    'return_sequences': True,\n",
              "    'return_state': False,\n",
              "    'stateful': False,\n",
              "    'time_major': False,\n",
              "    'trainable': True,\n",
              "    'unit_forget_bias': True,\n",
              "    'units': 300,\n",
              "    'unroll': False,\n",
              "    'use_bias': True}},\n",
              "  {'class_name': 'Dropout',\n",
              "   'config': {'dtype': 'float32',\n",
              "    'name': 'dropout_9',\n",
              "    'noise_shape': None,\n",
              "    'rate': 0.2,\n",
              "    'seed': None,\n",
              "    'trainable': True}},\n",
              "  {'class_name': 'LSTM',\n",
              "   'config': {'activation': 'tanh',\n",
              "    'activity_regularizer': None,\n",
              "    'bias_constraint': None,\n",
              "    'bias_initializer': {'class_name': 'Zeros', 'config': {}},\n",
              "    'bias_regularizer': None,\n",
              "    'dropout': 0.0,\n",
              "    'dtype': 'float32',\n",
              "    'go_backwards': False,\n",
              "    'implementation': 2,\n",
              "    'kernel_constraint': None,\n",
              "    'kernel_initializer': {'class_name': 'GlorotUniform',\n",
              "     'config': {'seed': None}},\n",
              "    'kernel_regularizer': None,\n",
              "    'name': 'lstm_10',\n",
              "    'recurrent_activation': 'sigmoid',\n",
              "    'recurrent_constraint': None,\n",
              "    'recurrent_dropout': 0.0,\n",
              "    'recurrent_initializer': {'class_name': 'Orthogonal',\n",
              "     'config': {'gain': 1.0, 'seed': None}},\n",
              "    'recurrent_regularizer': None,\n",
              "    'return_sequences': True,\n",
              "    'return_state': False,\n",
              "    'stateful': False,\n",
              "    'time_major': False,\n",
              "    'trainable': True,\n",
              "    'unit_forget_bias': True,\n",
              "    'units': 300,\n",
              "    'unroll': False,\n",
              "    'use_bias': True}},\n",
              "  {'class_name': 'Dropout',\n",
              "   'config': {'dtype': 'float32',\n",
              "    'name': 'dropout_10',\n",
              "    'noise_shape': None,\n",
              "    'rate': 0.2,\n",
              "    'seed': None,\n",
              "    'trainable': True}},\n",
              "  {'class_name': 'LSTM',\n",
              "   'config': {'activation': 'tanh',\n",
              "    'activity_regularizer': None,\n",
              "    'bias_constraint': None,\n",
              "    'bias_initializer': {'class_name': 'Zeros', 'config': {}},\n",
              "    'bias_regularizer': None,\n",
              "    'dropout': 0.0,\n",
              "    'dtype': 'float32',\n",
              "    'go_backwards': False,\n",
              "    'implementation': 2,\n",
              "    'kernel_constraint': None,\n",
              "    'kernel_initializer': {'class_name': 'GlorotUniform',\n",
              "     'config': {'seed': None}},\n",
              "    'kernel_regularizer': None,\n",
              "    'name': 'lstm_11',\n",
              "    'recurrent_activation': 'sigmoid',\n",
              "    'recurrent_constraint': None,\n",
              "    'recurrent_dropout': 0.0,\n",
              "    'recurrent_initializer': {'class_name': 'Orthogonal',\n",
              "     'config': {'gain': 1.0, 'seed': None}},\n",
              "    'recurrent_regularizer': None,\n",
              "    'return_sequences': True,\n",
              "    'return_state': False,\n",
              "    'stateful': False,\n",
              "    'time_major': False,\n",
              "    'trainable': True,\n",
              "    'unit_forget_bias': True,\n",
              "    'units': 300,\n",
              "    'unroll': False,\n",
              "    'use_bias': True}},\n",
              "  {'class_name': 'Dropout',\n",
              "   'config': {'dtype': 'float32',\n",
              "    'name': 'dropout_11',\n",
              "    'noise_shape': None,\n",
              "    'rate': 0.2,\n",
              "    'seed': None,\n",
              "    'trainable': True}},\n",
              "  {'class_name': 'LSTM',\n",
              "   'config': {'activation': 'tanh',\n",
              "    'activity_regularizer': None,\n",
              "    'bias_constraint': None,\n",
              "    'bias_initializer': {'class_name': 'Zeros', 'config': {}},\n",
              "    'bias_regularizer': None,\n",
              "    'dropout': 0.0,\n",
              "    'dtype': 'float32',\n",
              "    'go_backwards': False,\n",
              "    'implementation': 2,\n",
              "    'kernel_constraint': None,\n",
              "    'kernel_initializer': {'class_name': 'GlorotUniform',\n",
              "     'config': {'seed': None}},\n",
              "    'kernel_regularizer': None,\n",
              "    'name': 'lstm_12',\n",
              "    'recurrent_activation': 'sigmoid',\n",
              "    'recurrent_constraint': None,\n",
              "    'recurrent_dropout': 0.0,\n",
              "    'recurrent_initializer': {'class_name': 'Orthogonal',\n",
              "     'config': {'gain': 1.0, 'seed': None}},\n",
              "    'recurrent_regularizer': None,\n",
              "    'return_sequences': True,\n",
              "    'return_state': False,\n",
              "    'stateful': False,\n",
              "    'time_major': False,\n",
              "    'trainable': True,\n",
              "    'unit_forget_bias': True,\n",
              "    'units': 300,\n",
              "    'unroll': False,\n",
              "    'use_bias': True}},\n",
              "  {'class_name': 'Dropout',\n",
              "   'config': {'dtype': 'float32',\n",
              "    'name': 'dropout_12',\n",
              "    'noise_shape': None,\n",
              "    'rate': 0.2,\n",
              "    'seed': None,\n",
              "    'trainable': True}},\n",
              "  {'class_name': 'LSTM',\n",
              "   'config': {'activation': 'tanh',\n",
              "    'activity_regularizer': None,\n",
              "    'bias_constraint': None,\n",
              "    'bias_initializer': {'class_name': 'Zeros', 'config': {}},\n",
              "    'bias_regularizer': None,\n",
              "    'dropout': 0.0,\n",
              "    'dtype': 'float32',\n",
              "    'go_backwards': False,\n",
              "    'implementation': 2,\n",
              "    'kernel_constraint': None,\n",
              "    'kernel_initializer': {'class_name': 'GlorotUniform',\n",
              "     'config': {'seed': None}},\n",
              "    'kernel_regularizer': None,\n",
              "    'name': 'lstm_13',\n",
              "    'recurrent_activation': 'sigmoid',\n",
              "    'recurrent_constraint': None,\n",
              "    'recurrent_dropout': 0.0,\n",
              "    'recurrent_initializer': {'class_name': 'Orthogonal',\n",
              "     'config': {'gain': 1.0, 'seed': None}},\n",
              "    'recurrent_regularizer': None,\n",
              "    'return_sequences': True,\n",
              "    'return_state': False,\n",
              "    'stateful': False,\n",
              "    'time_major': False,\n",
              "    'trainable': True,\n",
              "    'unit_forget_bias': True,\n",
              "    'units': 300,\n",
              "    'unroll': False,\n",
              "    'use_bias': True}},\n",
              "  {'class_name': 'Dropout',\n",
              "   'config': {'dtype': 'float32',\n",
              "    'name': 'dropout_13',\n",
              "    'noise_shape': None,\n",
              "    'rate': 0.2,\n",
              "    'seed': None,\n",
              "    'trainable': True}},\n",
              "  {'class_name': 'LSTM',\n",
              "   'config': {'activation': 'tanh',\n",
              "    'activity_regularizer': None,\n",
              "    'bias_constraint': None,\n",
              "    'bias_initializer': {'class_name': 'Zeros', 'config': {}},\n",
              "    'bias_regularizer': None,\n",
              "    'dropout': 0.0,\n",
              "    'dtype': 'float32',\n",
              "    'go_backwards': False,\n",
              "    'implementation': 2,\n",
              "    'kernel_constraint': None,\n",
              "    'kernel_initializer': {'class_name': 'GlorotUniform',\n",
              "     'config': {'seed': None}},\n",
              "    'kernel_regularizer': None,\n",
              "    'name': 'lstm_14',\n",
              "    'recurrent_activation': 'sigmoid',\n",
              "    'recurrent_constraint': None,\n",
              "    'recurrent_dropout': 0.0,\n",
              "    'recurrent_initializer': {'class_name': 'Orthogonal',\n",
              "     'config': {'gain': 1.0, 'seed': None}},\n",
              "    'recurrent_regularizer': None,\n",
              "    'return_sequences': True,\n",
              "    'return_state': False,\n",
              "    'stateful': False,\n",
              "    'time_major': False,\n",
              "    'trainable': True,\n",
              "    'unit_forget_bias': True,\n",
              "    'units': 300,\n",
              "    'unroll': False,\n",
              "    'use_bias': True}},\n",
              "  {'class_name': 'Dropout',\n",
              "   'config': {'dtype': 'float32',\n",
              "    'name': 'dropout_14',\n",
              "    'noise_shape': None,\n",
              "    'rate': 0.2,\n",
              "    'seed': None,\n",
              "    'trainable': True}},\n",
              "  {'class_name': 'LSTM',\n",
              "   'config': {'activation': 'tanh',\n",
              "    'activity_regularizer': None,\n",
              "    'bias_constraint': None,\n",
              "    'bias_initializer': {'class_name': 'Zeros', 'config': {}},\n",
              "    'bias_regularizer': None,\n",
              "    'dropout': 0.0,\n",
              "    'dtype': 'float32',\n",
              "    'go_backwards': False,\n",
              "    'implementation': 2,\n",
              "    'kernel_constraint': None,\n",
              "    'kernel_initializer': {'class_name': 'GlorotUniform',\n",
              "     'config': {'seed': None}},\n",
              "    'kernel_regularizer': None,\n",
              "    'name': 'lstm_15',\n",
              "    'recurrent_activation': 'sigmoid',\n",
              "    'recurrent_constraint': None,\n",
              "    'recurrent_dropout': 0.0,\n",
              "    'recurrent_initializer': {'class_name': 'Orthogonal',\n",
              "     'config': {'gain': 1.0, 'seed': None}},\n",
              "    'recurrent_regularizer': None,\n",
              "    'return_sequences': False,\n",
              "    'return_state': False,\n",
              "    'stateful': False,\n",
              "    'time_major': False,\n",
              "    'trainable': True,\n",
              "    'unit_forget_bias': True,\n",
              "    'units': 300,\n",
              "    'unroll': False,\n",
              "    'use_bias': True}},\n",
              "  {'class_name': 'Dropout',\n",
              "   'config': {'dtype': 'float32',\n",
              "    'name': 'dropout_15',\n",
              "    'noise_shape': None,\n",
              "    'rate': 0.2,\n",
              "    'seed': None,\n",
              "    'trainable': True}},\n",
              "  {'class_name': 'Dense',\n",
              "   'config': {'activation': 'linear',\n",
              "    'activity_regularizer': None,\n",
              "    'bias_constraint': None,\n",
              "    'bias_initializer': {'class_name': 'Zeros', 'config': {}},\n",
              "    'bias_regularizer': None,\n",
              "    'dtype': 'float32',\n",
              "    'kernel_constraint': None,\n",
              "    'kernel_initializer': {'class_name': 'GlorotUniform',\n",
              "     'config': {'seed': None}},\n",
              "    'kernel_regularizer': None,\n",
              "    'name': 'dense_1',\n",
              "    'trainable': True,\n",
              "    'units': 1,\n",
              "    'use_bias': True}}],\n",
              " 'name': 'sequential_1'}"
            ]
          },
          "metadata": {},
          "execution_count": 51
        }
      ]
    },
    {
      "cell_type": "markdown",
      "metadata": {
        "id": "4hRau_lIkrE8"
      },
      "source": [
        "## Part 3 - Making the predictions and visualising the results"
      ]
    },
    {
      "cell_type": "markdown",
      "metadata": {
        "id": "SgJO6qEDksxD"
      },
      "source": [
        "### Getting the real stock price of 2017"
      ]
    },
    {
      "cell_type": "code",
      "metadata": {
        "id": "FmBT2zqukxTz"
      },
      "source": [
        "dataset_test = pd.read_csv(drive_path + 'Google_Stock_Price_Test.csv')\n",
        "real_stock_price = dataset_test.iloc[:, 1:2].values"
      ],
      "execution_count": 52,
      "outputs": []
    },
    {
      "cell_type": "code",
      "source": [
        "dataset_test.head(3)"
      ],
      "metadata": {
        "id": "C9sor_bjmpO6",
        "colab": {
          "base_uri": "https://localhost:8080/",
          "height": 143
        },
        "outputId": "9a0a3f62-72ae-4abb-c912-9b565a91013f"
      },
      "execution_count": 53,
      "outputs": [
        {
          "output_type": "execute_result",
          "data": {
            "text/html": [
              "\n",
              "  <div id=\"df-12abd75b-e93a-464a-98a7-59b32473c555\">\n",
              "    <div class=\"colab-df-container\">\n",
              "      <div>\n",
              "<style scoped>\n",
              "    .dataframe tbody tr th:only-of-type {\n",
              "        vertical-align: middle;\n",
              "    }\n",
              "\n",
              "    .dataframe tbody tr th {\n",
              "        vertical-align: top;\n",
              "    }\n",
              "\n",
              "    .dataframe thead th {\n",
              "        text-align: right;\n",
              "    }\n",
              "</style>\n",
              "<table border=\"1\" class=\"dataframe\">\n",
              "  <thead>\n",
              "    <tr style=\"text-align: right;\">\n",
              "      <th></th>\n",
              "      <th>Date</th>\n",
              "      <th>Open</th>\n",
              "      <th>High</th>\n",
              "      <th>Low</th>\n",
              "      <th>Close</th>\n",
              "      <th>Volume</th>\n",
              "    </tr>\n",
              "  </thead>\n",
              "  <tbody>\n",
              "    <tr>\n",
              "      <th>0</th>\n",
              "      <td>1/3/2017</td>\n",
              "      <td>778.81</td>\n",
              "      <td>789.63</td>\n",
              "      <td>775.80</td>\n",
              "      <td>786.14</td>\n",
              "      <td>1,657,300</td>\n",
              "    </tr>\n",
              "    <tr>\n",
              "      <th>1</th>\n",
              "      <td>1/4/2017</td>\n",
              "      <td>788.36</td>\n",
              "      <td>791.34</td>\n",
              "      <td>783.16</td>\n",
              "      <td>786.90</td>\n",
              "      <td>1,073,000</td>\n",
              "    </tr>\n",
              "    <tr>\n",
              "      <th>2</th>\n",
              "      <td>1/5/2017</td>\n",
              "      <td>786.08</td>\n",
              "      <td>794.48</td>\n",
              "      <td>785.02</td>\n",
              "      <td>794.02</td>\n",
              "      <td>1,335,200</td>\n",
              "    </tr>\n",
              "  </tbody>\n",
              "</table>\n",
              "</div>\n",
              "      <button class=\"colab-df-convert\" onclick=\"convertToInteractive('df-12abd75b-e93a-464a-98a7-59b32473c555')\"\n",
              "              title=\"Convert this dataframe to an interactive table.\"\n",
              "              style=\"display:none;\">\n",
              "        \n",
              "  <svg xmlns=\"http://www.w3.org/2000/svg\" height=\"24px\"viewBox=\"0 0 24 24\"\n",
              "       width=\"24px\">\n",
              "    <path d=\"M0 0h24v24H0V0z\" fill=\"none\"/>\n",
              "    <path d=\"M18.56 5.44l.94 2.06.94-2.06 2.06-.94-2.06-.94-.94-2.06-.94 2.06-2.06.94zm-11 1L8.5 8.5l.94-2.06 2.06-.94-2.06-.94L8.5 2.5l-.94 2.06-2.06.94zm10 10l.94 2.06.94-2.06 2.06-.94-2.06-.94-.94-2.06-.94 2.06-2.06.94z\"/><path d=\"M17.41 7.96l-1.37-1.37c-.4-.4-.92-.59-1.43-.59-.52 0-1.04.2-1.43.59L10.3 9.45l-7.72 7.72c-.78.78-.78 2.05 0 2.83L4 21.41c.39.39.9.59 1.41.59.51 0 1.02-.2 1.41-.59l7.78-7.78 2.81-2.81c.8-.78.8-2.07 0-2.86zM5.41 20L4 18.59l7.72-7.72 1.47 1.35L5.41 20z\"/>\n",
              "  </svg>\n",
              "      </button>\n",
              "      \n",
              "  <style>\n",
              "    .colab-df-container {\n",
              "      display:flex;\n",
              "      flex-wrap:wrap;\n",
              "      gap: 12px;\n",
              "    }\n",
              "\n",
              "    .colab-df-convert {\n",
              "      background-color: #E8F0FE;\n",
              "      border: none;\n",
              "      border-radius: 50%;\n",
              "      cursor: pointer;\n",
              "      display: none;\n",
              "      fill: #1967D2;\n",
              "      height: 32px;\n",
              "      padding: 0 0 0 0;\n",
              "      width: 32px;\n",
              "    }\n",
              "\n",
              "    .colab-df-convert:hover {\n",
              "      background-color: #E2EBFA;\n",
              "      box-shadow: 0px 1px 2px rgba(60, 64, 67, 0.3), 0px 1px 3px 1px rgba(60, 64, 67, 0.15);\n",
              "      fill: #174EA6;\n",
              "    }\n",
              "\n",
              "    [theme=dark] .colab-df-convert {\n",
              "      background-color: #3B4455;\n",
              "      fill: #D2E3FC;\n",
              "    }\n",
              "\n",
              "    [theme=dark] .colab-df-convert:hover {\n",
              "      background-color: #434B5C;\n",
              "      box-shadow: 0px 1px 3px 1px rgba(0, 0, 0, 0.15);\n",
              "      filter: drop-shadow(0px 1px 2px rgba(0, 0, 0, 0.3));\n",
              "      fill: #FFFFFF;\n",
              "    }\n",
              "  </style>\n",
              "\n",
              "      <script>\n",
              "        const buttonEl =\n",
              "          document.querySelector('#df-12abd75b-e93a-464a-98a7-59b32473c555 button.colab-df-convert');\n",
              "        buttonEl.style.display =\n",
              "          google.colab.kernel.accessAllowed ? 'block' : 'none';\n",
              "\n",
              "        async function convertToInteractive(key) {\n",
              "          const element = document.querySelector('#df-12abd75b-e93a-464a-98a7-59b32473c555');\n",
              "          const dataTable =\n",
              "            await google.colab.kernel.invokeFunction('convertToInteractive',\n",
              "                                                     [key], {});\n",
              "          if (!dataTable) return;\n",
              "\n",
              "          const docLinkHtml = 'Like what you see? Visit the ' +\n",
              "            '<a target=\"_blank\" href=https://colab.research.google.com/notebooks/data_table.ipynb>data table notebook</a>'\n",
              "            + ' to learn more about interactive tables.';\n",
              "          element.innerHTML = '';\n",
              "          dataTable['output_type'] = 'display_data';\n",
              "          await google.colab.output.renderOutput(dataTable, element);\n",
              "          const docLink = document.createElement('div');\n",
              "          docLink.innerHTML = docLinkHtml;\n",
              "          element.appendChild(docLink);\n",
              "        }\n",
              "      </script>\n",
              "    </div>\n",
              "  </div>\n",
              "  "
            ],
            "text/plain": [
              "       Date    Open    High     Low   Close     Volume\n",
              "0  1/3/2017  778.81  789.63  775.80  786.14  1,657,300\n",
              "1  1/4/2017  788.36  791.34  783.16  786.90  1,073,000\n",
              "2  1/5/2017  786.08  794.48  785.02  794.02  1,335,200"
            ]
          },
          "metadata": {},
          "execution_count": 53
        }
      ]
    },
    {
      "cell_type": "code",
      "source": [
        "real_stock_price[: 3]"
      ],
      "metadata": {
        "id": "5rOcQKmFmpor",
        "colab": {
          "base_uri": "https://localhost:8080/"
        },
        "outputId": "dc0e7a96-30fd-4492-91b7-09bad5dd3427"
      },
      "execution_count": 54,
      "outputs": [
        {
          "output_type": "execute_result",
          "data": {
            "text/plain": [
              "array([[778.81],\n",
              "       [788.36],\n",
              "       [786.08]])"
            ]
          },
          "metadata": {},
          "execution_count": 54
        }
      ]
    },
    {
      "cell_type": "markdown",
      "metadata": {
        "id": "GrvrLblxkz42"
      },
      "source": [
        "### Getting the predicted stock price of 2017"
      ]
    },
    {
      "cell_type": "code",
      "source": [
        "dataset_test.shape"
      ],
      "metadata": {
        "id": "7XOfrPAFpqY8",
        "colab": {
          "base_uri": "https://localhost:8080/"
        },
        "outputId": "d9dd5c8c-4f49-4100-a533-fbadc28a48db"
      },
      "execution_count": 55,
      "outputs": [
        {
          "output_type": "execute_result",
          "data": {
            "text/plain": [
              "(20, 6)"
            ]
          },
          "metadata": {},
          "execution_count": 55
        }
      ]
    },
    {
      "cell_type": "code",
      "metadata": {
        "id": "emikTvUpk3Ck"
      },
      "source": [
        "dataset_total = pd.concat((dataset_train['Open'], dataset_test['Open']), axis = 0)\n",
        "inputs = dataset_total[len(dataset_total) - len(dataset_test) - 120:].values\n",
        "inputs = inputs.reshape(-1,1)\n",
        "inputs = sc.transform(inputs)\n",
        "X_test = []\n",
        "for i in range(120, 140):\n",
        "    X_test.append(inputs[i-120:i, 0])\n",
        "X_test = np.array(X_test)\n",
        "X_test = np.reshape(X_test, (X_test.shape[0], X_test.shape[1], 1))\n",
        "predicted_stock_price = regressor.predict(X_test)\n",
        "predicted_stock_price = sc.inverse_transform(predicted_stock_price)"
      ],
      "execution_count": 56,
      "outputs": []
    },
    {
      "cell_type": "markdown",
      "source": [
        "### RMSE 50 is very bad if stock price is 100 but very good if its 10000. In our case stock prices are in range of 760-860."
      ],
      "metadata": {
        "id": "uOsYXNeuQNRp"
      }
    },
    {
      "cell_type": "code",
      "source": [
        "rmse = math.sqrt(mean_squared_error(real_stock_price, predicted_stock_price))\n",
        "print(rmse)"
      ],
      "metadata": {
        "id": "wANmJWRhwn3s",
        "colab": {
          "base_uri": "https://localhost:8080/"
        },
        "outputId": "d03f4120-4e21-4686-93f8-30b338a8f08e"
      },
      "execution_count": 57,
      "outputs": [
        {
          "output_type": "stream",
          "name": "stdout",
          "text": [
            "13.105203802458542\n"
          ]
        }
      ]
    },
    {
      "cell_type": "markdown",
      "metadata": {
        "id": "iFTNs3YHk6FQ"
      },
      "source": [
        "### Visualising the results"
      ]
    },
    {
      "cell_type": "code",
      "metadata": {
        "id": "8OUI8U49k9tH",
        "colab": {
          "base_uri": "https://localhost:8080/",
          "height": 295
        },
        "outputId": "14c83ad4-e08e-4f78-eb1e-fcf65a578576"
      },
      "source": [
        "plt.plot(real_stock_price, color = 'red', label = 'Real Google Stock Prices/Directions')\n",
        "plt.plot(predicted_stock_price, color = 'blue', label = 'Predicted Google Stock Prices/Directions')\n",
        "plt.title('Google Stock Price Prediction')\n",
        "plt.xlabel('Time')\n",
        "plt.ylabel('Google Stock Price')\n",
        "plt.legend()\n",
        "plt.show()"
      ],
      "execution_count": 58,
      "outputs": [
        {
          "output_type": "display_data",
          "data": {
            "image/png": "[encoded data removed]",
            "text/plain": [
              "<Figure size 432x288 with 1 Axes>"
            ]
          },
          "metadata": {
            "needs_background": "light"
          }
        }
      ]
    }
  ]
}
