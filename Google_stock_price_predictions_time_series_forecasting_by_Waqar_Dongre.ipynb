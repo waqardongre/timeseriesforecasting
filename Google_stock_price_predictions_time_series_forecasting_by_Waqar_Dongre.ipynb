{
  "nbformat": 4,
  "nbformat_minor": 0,
  "metadata": {
    "colab": {
      "name": "Google_stock_price_predictions_time_series_forecasting_by_Waqar_Dongre.ipynb",
      "provenance": [],
      "collapsed_sections": []
    },
    "kernelspec": {
      "name": "python3",
      "display_name": "Python 3"
    }
  },
  "cells": [
    {
      "cell_type": "code",
      "source": [
        "from google.colab import drive\n",
        "drive.mount('/content/drive')"
      ],
      "metadata": {
        "colab": {
          "base_uri": "https://localhost:8080/",
          "height": 0
        },
        "id": "kvpbUSIdY_Bf",
        "outputId": "8c4be8e6-7d67-4d46-bcca-b93ab2620580"
      },
      "execution_count": 1,
      "outputs": [
        {
          "output_type": "stream",
          "name": "stdout",
          "text": [
            "Drive already mounted at /content/drive; to attempt to forcibly remount, call drive.mount(\"/content/drive\", force_remount=True).\n"
          ]
        }
      ]
    },
    {
      "cell_type": "markdown",
      "metadata": {
        "id": "xpAuMVCwfWs8"
      },
      "source": [
        "# Recurrent Neural Network - LSTMs"
      ]
    },
    {
      "cell_type": "markdown",
      "metadata": {
        "id": "nxJfRe4bfYVA"
      },
      "source": [
        "## Part 1 - Data Preprocessing"
      ]
    },
    {
      "cell_type": "markdown",
      "metadata": {
        "id": "ir9zwETrfbrp"
      },
      "source": [
        "### Importing the libraries"
      ]
    },
    {
      "cell_type": "code",
      "metadata": {
        "id": "ZT1f24vHffuf"
      },
      "source": [
        "import numpy as np\n",
        "import matplotlib.pyplot as plt\n",
        "import pandas as pd\n",
        "from sklearn.metrics import mean_squared_error"
      ],
      "execution_count": 2,
      "outputs": []
    },
    {
      "cell_type": "markdown",
      "metadata": {
        "id": "nQ47JAxrgmaL"
      },
      "source": [
        "### Importing the training set"
      ]
    },
    {
      "cell_type": "code",
      "metadata": {
        "id": "1xiv3pJOgqY3"
      },
      "source": [
        "dataset_train = pd.read_csv('/content/drive/MyDrive/DSs/TimeSeries_DS_1/Google_Stock_Price_Train.csv')\n",
        "training_set = dataset_train.iloc[:, 1:2].values"
      ],
      "execution_count": 3,
      "outputs": []
    },
    {
      "cell_type": "markdown",
      "metadata": {
        "id": "HT8_2UJegtG5"
      },
      "source": [
        "### Feature Scaling"
      ]
    },
    {
      "cell_type": "code",
      "source": [
        "dataset_train.head(3)"
      ],
      "metadata": {
        "colab": {
          "base_uri": "https://localhost:8080/",
          "height": 143
        },
        "id": "DYxQOzv4mfXV",
        "outputId": "5c12dc08-ab58-4d1a-96fe-d6d50530441c"
      },
      "execution_count": 4,
      "outputs": [
        {
          "output_type": "execute_result",
          "data": {
            "text/html": [
              "\n",
              "  <div id=\"df-8bf037f0-a478-48bc-b676-b55a433f7d5b\">\n",
              "    <div class=\"colab-df-container\">\n",
              "      <div>\n",
              "<style scoped>\n",
              "    .dataframe tbody tr th:only-of-type {\n",
              "        vertical-align: middle;\n",
              "    }\n",
              "\n",
              "    .dataframe tbody tr th {\n",
              "        vertical-align: top;\n",
              "    }\n",
              "\n",
              "    .dataframe thead th {\n",
              "        text-align: right;\n",
              "    }\n",
              "</style>\n",
              "<table border=\"1\" class=\"dataframe\">\n",
              "  <thead>\n",
              "    <tr style=\"text-align: right;\">\n",
              "      <th></th>\n",
              "      <th>Date</th>\n",
              "      <th>Open</th>\n",
              "      <th>High</th>\n",
              "      <th>Low</th>\n",
              "      <th>Close</th>\n",
              "      <th>Volume</th>\n",
              "    </tr>\n",
              "  </thead>\n",
              "  <tbody>\n",
              "    <tr>\n",
              "      <th>0</th>\n",
              "      <td>1/3/2012</td>\n",
              "      <td>325.25</td>\n",
              "      <td>332.83</td>\n",
              "      <td>324.97</td>\n",
              "      <td>663.59</td>\n",
              "      <td>7,380,500</td>\n",
              "    </tr>\n",
              "    <tr>\n",
              "      <th>1</th>\n",
              "      <td>1/4/2012</td>\n",
              "      <td>331.27</td>\n",
              "      <td>333.87</td>\n",
              "      <td>329.08</td>\n",
              "      <td>666.45</td>\n",
              "      <td>5,749,400</td>\n",
              "    </tr>\n",
              "    <tr>\n",
              "      <th>2</th>\n",
              "      <td>1/5/2012</td>\n",
              "      <td>329.83</td>\n",
              "      <td>330.75</td>\n",
              "      <td>326.89</td>\n",
              "      <td>657.21</td>\n",
              "      <td>6,590,300</td>\n",
              "    </tr>\n",
              "  </tbody>\n",
              "</table>\n",
              "</div>\n",
              "      <button class=\"colab-df-convert\" onclick=\"convertToInteractive('df-8bf037f0-a478-48bc-b676-b55a433f7d5b')\"\n",
              "              title=\"Convert this dataframe to an interactive table.\"\n",
              "              style=\"display:none;\">\n",
              "        \n",
              "  <svg xmlns=\"http://www.w3.org/2000/svg\" height=\"24px\"viewBox=\"0 0 24 24\"\n",
              "       width=\"24px\">\n",
              "    <path d=\"M0 0h24v24H0V0z\" fill=\"none\"/>\n",
              "    <path d=\"M18.56 5.44l.94 2.06.94-2.06 2.06-.94-2.06-.94-.94-2.06-.94 2.06-2.06.94zm-11 1L8.5 8.5l.94-2.06 2.06-.94-2.06-.94L8.5 2.5l-.94 2.06-2.06.94zm10 10l.94 2.06.94-2.06 2.06-.94-2.06-.94-.94-2.06-.94 2.06-2.06.94z\"/><path d=\"M17.41 7.96l-1.37-1.37c-.4-.4-.92-.59-1.43-.59-.52 0-1.04.2-1.43.59L10.3 9.45l-7.72 7.72c-.78.78-.78 2.05 0 2.83L4 21.41c.39.39.9.59 1.41.59.51 0 1.02-.2 1.41-.59l7.78-7.78 2.81-2.81c.8-.78.8-2.07 0-2.86zM5.41 20L4 18.59l7.72-7.72 1.47 1.35L5.41 20z\"/>\n",
              "  </svg>\n",
              "      </button>\n",
              "      \n",
              "  <style>\n",
              "    .colab-df-container {\n",
              "      display:flex;\n",
              "      flex-wrap:wrap;\n",
              "      gap: 12px;\n",
              "    }\n",
              "\n",
              "    .colab-df-convert {\n",
              "      background-color: #E8F0FE;\n",
              "      border: none;\n",
              "      border-radius: 50%;\n",
              "      cursor: pointer;\n",
              "      display: none;\n",
              "      fill: #1967D2;\n",
              "      height: 32px;\n",
              "      padding: 0 0 0 0;\n",
              "      width: 32px;\n",
              "    }\n",
              "\n",
              "    .colab-df-convert:hover {\n",
              "      background-color: #E2EBFA;\n",
              "      box-shadow: 0px 1px 2px rgba(60, 64, 67, 0.3), 0px 1px 3px 1px rgba(60, 64, 67, 0.15);\n",
              "      fill: #174EA6;\n",
              "    }\n",
              "\n",
              "    [theme=dark] .colab-df-convert {\n",
              "      background-color: #3B4455;\n",
              "      fill: #D2E3FC;\n",
              "    }\n",
              "\n",
              "    [theme=dark] .colab-df-convert:hover {\n",
              "      background-color: #434B5C;\n",
              "      box-shadow: 0px 1px 3px 1px rgba(0, 0, 0, 0.15);\n",
              "      filter: drop-shadow(0px 1px 2px rgba(0, 0, 0, 0.3));\n",
              "      fill: #FFFFFF;\n",
              "    }\n",
              "  </style>\n",
              "\n",
              "      <script>\n",
              "        const buttonEl =\n",
              "          document.querySelector('#df-8bf037f0-a478-48bc-b676-b55a433f7d5b button.colab-df-convert');\n",
              "        buttonEl.style.display =\n",
              "          google.colab.kernel.accessAllowed ? 'block' : 'none';\n",
              "\n",
              "        async function convertToInteractive(key) {\n",
              "          const element = document.querySelector('#df-8bf037f0-a478-48bc-b676-b55a433f7d5b');\n",
              "          const dataTable =\n",
              "            await google.colab.kernel.invokeFunction('convertToInteractive',\n",
              "                                                     [key], {});\n",
              "          if (!dataTable) return;\n",
              "\n",
              "          const docLinkHtml = 'Like what you see? Visit the ' +\n",
              "            '<a target=\"_blank\" href=https://colab.research.google.com/notebooks/data_table.ipynb>data table notebook</a>'\n",
              "            + ' to learn more about interactive tables.';\n",
              "          element.innerHTML = '';\n",
              "          dataTable['output_type'] = 'display_data';\n",
              "          await google.colab.output.renderOutput(dataTable, element);\n",
              "          const docLink = document.createElement('div');\n",
              "          docLink.innerHTML = docLinkHtml;\n",
              "          element.appendChild(docLink);\n",
              "        }\n",
              "      </script>\n",
              "    </div>\n",
              "  </div>\n",
              "  "
            ],
            "text/plain": [
              "       Date    Open    High     Low   Close     Volume\n",
              "0  1/3/2012  325.25  332.83  324.97  663.59  7,380,500\n",
              "1  1/4/2012  331.27  333.87  329.08  666.45  5,749,400\n",
              "2  1/5/2012  329.83  330.75  326.89  657.21  6,590,300"
            ]
          },
          "metadata": {},
          "execution_count": 4
        }
      ]
    },
    {
      "cell_type": "code",
      "source": [
        "dataset_train.shape, training_set.shape"
      ],
      "metadata": {
        "colab": {
          "base_uri": "https://localhost:8080/",
          "height": 0
        },
        "id": "20rridc3oD9Y",
        "outputId": "b33ce140-9182-4dc9-c5df-d3635eec4624"
      },
      "execution_count": 5,
      "outputs": [
        {
          "output_type": "execute_result",
          "data": {
            "text/plain": [
              "((1258, 6), (1258, 1))"
            ]
          },
          "metadata": {},
          "execution_count": 5
        }
      ]
    },
    {
      "cell_type": "code",
      "source": [
        "training_set[: 3]"
      ],
      "metadata": {
        "colab": {
          "base_uri": "https://localhost:8080/",
          "height": 0
        },
        "id": "CH96AX7wmhuc",
        "outputId": "6abeafc5-871d-4109-f025-e2fd9542b376"
      },
      "execution_count": 6,
      "outputs": [
        {
          "output_type": "execute_result",
          "data": {
            "text/plain": [
              "array([[325.25],\n",
              "       [331.27],\n",
              "       [329.83]])"
            ]
          },
          "metadata": {},
          "execution_count": 6
        }
      ]
    },
    {
      "cell_type": "markdown",
      "source": [
        "### Scaling"
      ],
      "metadata": {
        "id": "OWxAVP1L2Ryy"
      }
    },
    {
      "cell_type": "code",
      "metadata": {
        "id": "OTrF2kR7gx9x"
      },
      "source": [
        "from sklearn.preprocessing import MinMaxScaler\n",
        "sc = MinMaxScaler(feature_range = (0, 1))\n",
        "training_set_scaled = sc.fit_transform(training_set)"
      ],
      "execution_count": 7,
      "outputs": []
    },
    {
      "cell_type": "markdown",
      "metadata": {
        "id": "JyYgYocqhNUg"
      },
      "source": [
        "### Creating a data structure with 60 timesteps and 1 output"
      ]
    },
    {
      "cell_type": "code",
      "metadata": {
        "id": "iofU21B0i6ST"
      },
      "source": [
        "X_train = []\n",
        "y_train = []\n",
        "for i in range(60, 1258):\n",
        "    X_train.append(training_set_scaled[i-60:i, 0])\n",
        "    y_train.append(training_set_scaled[i, 0])\n",
        "X_train, y_train = np.array(X_train), np.array(y_train)"
      ],
      "execution_count": 8,
      "outputs": []
    },
    {
      "cell_type": "markdown",
      "metadata": {
        "id": "D8yaN7Zvi95l"
      },
      "source": [
        "### Reshaping"
      ]
    },
    {
      "cell_type": "code",
      "metadata": {
        "id": "FOXqJHmNjBkz"
      },
      "source": [
        "X_train = np.reshape(X_train, (X_train.shape[0], X_train.shape[1], 1))"
      ],
      "execution_count": 9,
      "outputs": []
    },
    {
      "cell_type": "markdown",
      "metadata": {
        "id": "ZRRSOJeVjEWV"
      },
      "source": [
        "## Part 2 - Building and Training the RNN"
      ]
    },
    {
      "cell_type": "markdown",
      "metadata": {
        "id": "k4XV88JMjHXG"
      },
      "source": [
        "### Importing the Keras libraries and packages"
      ]
    },
    {
      "cell_type": "code",
      "metadata": {
        "id": "9JRnqsxEjKsD"
      },
      "source": [
        "from keras.models import Sequential\n",
        "from keras.layers import Dense\n",
        "from keras.layers import LSTM\n",
        "from keras.layers import Dropout"
      ],
      "execution_count": 10,
      "outputs": []
    },
    {
      "cell_type": "markdown",
      "metadata": {
        "id": "FEIE-1s9jNzC"
      },
      "source": [
        "### Initialising the RNN"
      ]
    },
    {
      "cell_type": "code",
      "metadata": {
        "id": "1338dJ0UjRKH"
      },
      "source": [
        "regressor = Sequential()"
      ],
      "execution_count": 11,
      "outputs": []
    },
    {
      "cell_type": "markdown",
      "metadata": {
        "id": "62eg1OPGjT8z"
      },
      "source": [
        "### Adding the first LSTM layer and some Dropout regularisation"
      ]
    },
    {
      "cell_type": "code",
      "metadata": {
        "id": "2hIinyXUjbVU"
      },
      "source": [
        "regressor.add(LSTM(units = 200, return_sequences = True, input_shape = (X_train.shape[1], 1)))\n",
        "regressor.add(Dropout(0.2))"
      ],
      "execution_count": 12,
      "outputs": []
    },
    {
      "cell_type": "markdown",
      "metadata": {
        "id": "3XBIYLyOjlMx"
      },
      "source": [
        "### Adding a second LSTM layer and some Dropout regularisation"
      ]
    },
    {
      "cell_type": "code",
      "metadata": {
        "id": "UG7nrVaSjuZ2"
      },
      "source": [
        "regressor.add(LSTM(units = 200, return_sequences = True))\n",
        "regressor.add(Dropout(0.2))"
      ],
      "execution_count": 13,
      "outputs": []
    },
    {
      "cell_type": "markdown",
      "metadata": {
        "id": "Ey3fHVnGj1cu"
      },
      "source": [
        "### Adding a third LSTM layer and some Dropout regularisation"
      ]
    },
    {
      "cell_type": "code",
      "metadata": {
        "id": "PuNi6PgFj7jO"
      },
      "source": [
        "regressor.add(LSTM(units = 200, return_sequences = True))\n",
        "regressor.add(Dropout(0.2))"
      ],
      "execution_count": 14,
      "outputs": []
    },
    {
      "cell_type": "markdown",
      "metadata": {
        "id": "SYTrtfTmj933"
      },
      "source": [
        "### Adding a fourth LSTM layer and some Dropout regularisation"
      ]
    },
    {
      "cell_type": "code",
      "metadata": {
        "id": "Jp4Ty8fRkBYV"
      },
      "source": [
        "regressor.add(LSTM(units = 200))\n",
        "regressor.add(Dropout(0.2))"
      ],
      "execution_count": 15,
      "outputs": []
    },
    {
      "cell_type": "markdown",
      "metadata": {
        "id": "9ABI6rOIkHhk"
      },
      "source": [
        "### Adding the output layer"
      ]
    },
    {
      "cell_type": "code",
      "metadata": {
        "id": "aM6R1z4WkME8"
      },
      "source": [
        "regressor.add(Dense(units = 1))"
      ],
      "execution_count": 16,
      "outputs": []
    },
    {
      "cell_type": "markdown",
      "metadata": {
        "id": "zLx4K7uUkPSh"
      },
      "source": [
        "### Compiling the RNN"
      ]
    },
    {
      "cell_type": "code",
      "metadata": {
        "id": "XTrhVN-tkbko"
      },
      "source": [
        "regressor.compile(optimizer = 'adam', loss = 'mean_squared_error')"
      ],
      "execution_count": 17,
      "outputs": []
    },
    {
      "cell_type": "markdown",
      "metadata": {
        "id": "-mPhwKGkkebi"
      },
      "source": [
        "### Fitting the RNN to the Training set"
      ]
    },
    {
      "cell_type": "code",
      "metadata": {
        "id": "I06Nkrz5kkb-",
        "colab": {
          "base_uri": "https://localhost:8080/",
          "height": 0
        },
        "outputId": "37511ac9-98ae-4055-f9f3-a154b277abdd"
      },
      "source": [
        "regressor.fit(X_train, y_train, epochs = 100, batch_size = 32)"
      ],
      "execution_count": 18,
      "outputs": [
        {
          "output_type": "stream",
          "name": "stdout",
          "text": [
            "Epoch 1/100\n",
            "38/38 [==============================] - 33s 678ms/step - loss: 0.0330\n",
            "Epoch 2/100\n",
            "38/38 [==============================] - 25s 668ms/step - loss: 0.0036\n",
            "Epoch 3/100\n",
            "38/38 [==============================] - 25s 667ms/step - loss: 0.0036\n",
            "Epoch 4/100\n",
            "38/38 [==============================] - 25s 668ms/step - loss: 0.0028\n",
            "Epoch 5/100\n",
            "38/38 [==============================] - 25s 670ms/step - loss: 0.0029\n",
            "Epoch 6/100\n",
            "38/38 [==============================] - 25s 668ms/step - loss: 0.0026\n",
            "Epoch 7/100\n",
            "38/38 [==============================] - 25s 668ms/step - loss: 0.0022\n",
            "Epoch 8/100\n",
            "38/38 [==============================] - 26s 672ms/step - loss: 0.0026\n",
            "Epoch 9/100\n",
            "38/38 [==============================] - 25s 666ms/step - loss: 0.0029\n",
            "Epoch 10/100\n",
            "38/38 [==============================] - 25s 664ms/step - loss: 0.0032\n",
            "Epoch 11/100\n",
            "38/38 [==============================] - 25s 668ms/step - loss: 0.0023\n",
            "Epoch 12/100\n",
            "38/38 [==============================] - 25s 668ms/step - loss: 0.0025\n",
            "Epoch 13/100\n",
            "38/38 [==============================] - 25s 667ms/step - loss: 0.0021\n",
            "Epoch 14/100\n",
            "38/38 [==============================] - 25s 670ms/step - loss: 0.0025\n",
            "Epoch 15/100\n",
            "38/38 [==============================] - 25s 667ms/step - loss: 0.0025\n",
            "Epoch 16/100\n",
            "38/38 [==============================] - 26s 674ms/step - loss: 0.0024\n",
            "Epoch 17/100\n",
            "38/38 [==============================] - 26s 673ms/step - loss: 0.0021\n",
            "Epoch 18/100\n",
            "38/38 [==============================] - 25s 669ms/step - loss: 0.0023\n",
            "Epoch 19/100\n",
            "38/38 [==============================] - 25s 669ms/step - loss: 0.0023\n",
            "Epoch 20/100\n",
            "38/38 [==============================] - 26s 670ms/step - loss: 0.0024\n",
            "Epoch 21/100\n",
            "38/38 [==============================] - 25s 671ms/step - loss: 0.0020\n",
            "Epoch 22/100\n",
            "38/38 [==============================] - 25s 669ms/step - loss: 0.0018\n",
            "Epoch 23/100\n",
            "38/38 [==============================] - 25s 670ms/step - loss: 0.0020\n",
            "Epoch 24/100\n",
            "38/38 [==============================] - 25s 667ms/step - loss: 0.0019\n",
            "Epoch 25/100\n",
            "38/38 [==============================] - 25s 669ms/step - loss: 0.0019\n",
            "Epoch 26/100\n",
            "38/38 [==============================] - 26s 671ms/step - loss: 0.0022\n",
            "Epoch 27/100\n",
            "38/38 [==============================] - 26s 672ms/step - loss: 0.0018\n",
            "Epoch 28/100\n",
            "38/38 [==============================] - 26s 676ms/step - loss: 0.0018\n",
            "Epoch 29/100\n",
            "38/38 [==============================] - 26s 680ms/step - loss: 0.0020\n",
            "Epoch 30/100\n",
            "38/38 [==============================] - 26s 675ms/step - loss: 0.0017\n",
            "Epoch 31/100\n",
            "38/38 [==============================] - 26s 674ms/step - loss: 0.0016\n",
            "Epoch 32/100\n",
            "38/38 [==============================] - 26s 675ms/step - loss: 0.0018\n",
            "Epoch 33/100\n",
            "38/38 [==============================] - 25s 668ms/step - loss: 0.0021\n",
            "Epoch 34/100\n",
            "38/38 [==============================] - 25s 665ms/step - loss: 0.0017\n",
            "Epoch 35/100\n",
            "38/38 [==============================] - 25s 667ms/step - loss: 0.0016\n",
            "Epoch 36/100\n",
            "38/38 [==============================] - 25s 666ms/step - loss: 0.0017\n",
            "Epoch 37/100\n",
            "38/38 [==============================] - 25s 667ms/step - loss: 0.0015\n",
            "Epoch 38/100\n",
            "38/38 [==============================] - 25s 668ms/step - loss: 0.0021\n",
            "Epoch 39/100\n",
            "38/38 [==============================] - 25s 668ms/step - loss: 0.0021\n",
            "Epoch 40/100\n",
            "38/38 [==============================] - 25s 665ms/step - loss: 0.0016\n",
            "Epoch 41/100\n",
            "38/38 [==============================] - 26s 673ms/step - loss: 0.0015\n",
            "Epoch 42/100\n",
            "38/38 [==============================] - 25s 666ms/step - loss: 0.0012\n",
            "Epoch 43/100\n",
            "38/38 [==============================] - 25s 663ms/step - loss: 0.0012\n",
            "Epoch 44/100\n",
            "38/38 [==============================] - 25s 670ms/step - loss: 0.0013\n",
            "Epoch 45/100\n",
            "38/38 [==============================] - 25s 666ms/step - loss: 0.0015\n",
            "Epoch 46/100\n",
            "38/38 [==============================] - 25s 666ms/step - loss: 0.0014\n",
            "Epoch 47/100\n",
            "38/38 [==============================] - 25s 666ms/step - loss: 0.0012\n",
            "Epoch 48/100\n",
            "38/38 [==============================] - 25s 670ms/step - loss: 0.0013\n",
            "Epoch 49/100\n",
            "38/38 [==============================] - 25s 665ms/step - loss: 0.0013\n",
            "Epoch 50/100\n",
            "38/38 [==============================] - 25s 663ms/step - loss: 0.0013\n",
            "Epoch 51/100\n",
            "38/38 [==============================] - 25s 664ms/step - loss: 0.0012\n",
            "Epoch 52/100\n",
            "38/38 [==============================] - 25s 667ms/step - loss: 0.0013\n",
            "Epoch 53/100\n",
            "38/38 [==============================] - 26s 672ms/step - loss: 0.0013\n",
            "Epoch 54/100\n",
            "38/38 [==============================] - 25s 669ms/step - loss: 0.0011\n",
            "Epoch 55/100\n",
            "38/38 [==============================] - 25s 668ms/step - loss: 0.0012\n",
            "Epoch 56/100\n",
            "38/38 [==============================] - 25s 667ms/step - loss: 0.0011\n",
            "Epoch 57/100\n",
            "38/38 [==============================] - 25s 661ms/step - loss: 0.0013\n",
            "Epoch 58/100\n",
            "38/38 [==============================] - 25s 668ms/step - loss: 0.0014\n",
            "Epoch 59/100\n",
            "38/38 [==============================] - 25s 663ms/step - loss: 0.0012\n",
            "Epoch 60/100\n",
            "38/38 [==============================] - 26s 672ms/step - loss: 0.0011\n",
            "Epoch 61/100\n",
            "38/38 [==============================] - 26s 676ms/step - loss: 0.0012\n",
            "Epoch 62/100\n",
            "38/38 [==============================] - 26s 674ms/step - loss: 0.0011\n",
            "Epoch 63/100\n",
            "38/38 [==============================] - 26s 671ms/step - loss: 0.0010\n",
            "Epoch 64/100\n",
            "38/38 [==============================] - 25s 670ms/step - loss: 0.0013\n",
            "Epoch 65/100\n",
            "38/38 [==============================] - 26s 685ms/step - loss: 9.7992e-04\n",
            "Epoch 66/100\n",
            "38/38 [==============================] - 26s 672ms/step - loss: 0.0012\n",
            "Epoch 67/100\n",
            "38/38 [==============================] - 26s 671ms/step - loss: 9.9144e-04\n",
            "Epoch 68/100\n",
            "38/38 [==============================] - 25s 670ms/step - loss: 0.0010\n",
            "Epoch 69/100\n",
            "38/38 [==============================] - 25s 667ms/step - loss: 9.9327e-04\n",
            "Epoch 70/100\n",
            "38/38 [==============================] - 26s 670ms/step - loss: 0.0011\n",
            "Epoch 71/100\n",
            "38/38 [==============================] - 26s 671ms/step - loss: 0.0011\n",
            "Epoch 72/100\n",
            "38/38 [==============================] - 25s 670ms/step - loss: 0.0011\n",
            "Epoch 73/100\n",
            "38/38 [==============================] - 25s 666ms/step - loss: 9.8070e-04\n",
            "Epoch 74/100\n",
            "38/38 [==============================] - 26s 674ms/step - loss: 0.0011\n",
            "Epoch 75/100\n",
            "38/38 [==============================] - 26s 674ms/step - loss: 0.0012\n",
            "Epoch 76/100\n",
            "38/38 [==============================] - 26s 674ms/step - loss: 0.0012\n",
            "Epoch 77/100\n",
            "38/38 [==============================] - 26s 679ms/step - loss: 0.0012\n",
            "Epoch 78/100\n",
            "38/38 [==============================] - 26s 676ms/step - loss: 9.8177e-04\n",
            "Epoch 79/100\n",
            "38/38 [==============================] - 26s 674ms/step - loss: 9.7553e-04\n",
            "Epoch 80/100\n",
            "38/38 [==============================] - 26s 670ms/step - loss: 9.2913e-04\n",
            "Epoch 81/100\n",
            "38/38 [==============================] - 25s 670ms/step - loss: 0.0010\n",
            "Epoch 82/100\n",
            "38/38 [==============================] - 26s 671ms/step - loss: 9.7137e-04\n",
            "Epoch 83/100\n",
            "38/38 [==============================] - 26s 673ms/step - loss: 9.7325e-04\n",
            "Epoch 84/100\n",
            "38/38 [==============================] - 26s 676ms/step - loss: 9.6477e-04\n",
            "Epoch 85/100\n",
            "38/38 [==============================] - 26s 677ms/step - loss: 9.4315e-04\n",
            "Epoch 86/100\n",
            "38/38 [==============================] - 26s 686ms/step - loss: 0.0011\n",
            "Epoch 87/100\n",
            "38/38 [==============================] - 26s 676ms/step - loss: 0.0010\n",
            "Epoch 88/100\n",
            "38/38 [==============================] - 26s 673ms/step - loss: 9.8834e-04\n",
            "Epoch 89/100\n",
            "38/38 [==============================] - 26s 677ms/step - loss: 0.0011\n",
            "Epoch 90/100\n",
            "38/38 [==============================] - 26s 678ms/step - loss: 9.5281e-04\n",
            "Epoch 91/100\n",
            "38/38 [==============================] - 26s 678ms/step - loss: 9.2450e-04\n",
            "Epoch 92/100\n",
            "38/38 [==============================] - 25s 670ms/step - loss: 7.5489e-04\n",
            "Epoch 93/100\n",
            "38/38 [==============================] - 25s 669ms/step - loss: 9.9339e-04\n",
            "Epoch 94/100\n",
            "38/38 [==============================] - 26s 673ms/step - loss: 0.0011\n",
            "Epoch 95/100\n",
            "38/38 [==============================] - 25s 669ms/step - loss: 9.7875e-04\n",
            "Epoch 96/100\n",
            "38/38 [==============================] - 25s 666ms/step - loss: 9.1294e-04\n",
            "Epoch 97/100\n",
            "38/38 [==============================] - 25s 668ms/step - loss: 9.1963e-04\n",
            "Epoch 98/100\n",
            "38/38 [==============================] - 26s 674ms/step - loss: 0.0010\n",
            "Epoch 99/100\n",
            "38/38 [==============================] - 26s 670ms/step - loss: 0.0013\n",
            "Epoch 100/100\n",
            "38/38 [==============================] - 25s 668ms/step - loss: 8.6637e-04\n"
          ]
        },
        {
          "output_type": "execute_result",
          "data": {
            "text/plain": [
              "<keras.callbacks.History at 0x7fa145121590>"
            ]
          },
          "metadata": {},
          "execution_count": 18
        }
      ]
    },
    {
      "cell_type": "markdown",
      "metadata": {
        "id": "4hRau_lIkrE8"
      },
      "source": [
        "## Part 3 - Making the predictions and visualising the results"
      ]
    },
    {
      "cell_type": "markdown",
      "metadata": {
        "id": "SgJO6qEDksxD"
      },
      "source": [
        "### Getting the real stock price of 2017"
      ]
    },
    {
      "cell_type": "code",
      "metadata": {
        "id": "FmBT2zqukxTz"
      },
      "source": [
        "dataset_test = pd.read_csv('/content/drive/MyDrive/DSs/TimeSeries_DS_1/Google_Stock_Price_Test.csv')\n",
        "real_stock_price = dataset_test.iloc[:, 1:2].values"
      ],
      "execution_count": 29,
      "outputs": []
    },
    {
      "cell_type": "code",
      "source": [
        "dataset_test.head(3)"
      ],
      "metadata": {
        "colab": {
          "base_uri": "https://localhost:8080/",
          "height": 143
        },
        "id": "C9sor_bjmpO6",
        "outputId": "b53c414a-b5ce-4c47-97cd-0d7795f55d1d"
      },
      "execution_count": 30,
      "outputs": [
        {
          "output_type": "execute_result",
          "data": {
            "text/html": [
              "\n",
              "  <div id=\"df-5ab5f88d-ed94-4a14-a2c8-f0c73adde43a\">\n",
              "    <div class=\"colab-df-container\">\n",
              "      <div>\n",
              "<style scoped>\n",
              "    .dataframe tbody tr th:only-of-type {\n",
              "        vertical-align: middle;\n",
              "    }\n",
              "\n",
              "    .dataframe tbody tr th {\n",
              "        vertical-align: top;\n",
              "    }\n",
              "\n",
              "    .dataframe thead th {\n",
              "        text-align: right;\n",
              "    }\n",
              "</style>\n",
              "<table border=\"1\" class=\"dataframe\">\n",
              "  <thead>\n",
              "    <tr style=\"text-align: right;\">\n",
              "      <th></th>\n",
              "      <th>Date</th>\n",
              "      <th>Open</th>\n",
              "      <th>High</th>\n",
              "      <th>Low</th>\n",
              "      <th>Close</th>\n",
              "      <th>Volume</th>\n",
              "    </tr>\n",
              "  </thead>\n",
              "  <tbody>\n",
              "    <tr>\n",
              "      <th>0</th>\n",
              "      <td>1/3/2017</td>\n",
              "      <td>778.81</td>\n",
              "      <td>789.63</td>\n",
              "      <td>775.80</td>\n",
              "      <td>786.14</td>\n",
              "      <td>1,657,300</td>\n",
              "    </tr>\n",
              "    <tr>\n",
              "      <th>1</th>\n",
              "      <td>1/4/2017</td>\n",
              "      <td>788.36</td>\n",
              "      <td>791.34</td>\n",
              "      <td>783.16</td>\n",
              "      <td>786.90</td>\n",
              "      <td>1,073,000</td>\n",
              "    </tr>\n",
              "    <tr>\n",
              "      <th>2</th>\n",
              "      <td>1/5/2017</td>\n",
              "      <td>786.08</td>\n",
              "      <td>794.48</td>\n",
              "      <td>785.02</td>\n",
              "      <td>794.02</td>\n",
              "      <td>1,335,200</td>\n",
              "    </tr>\n",
              "  </tbody>\n",
              "</table>\n",
              "</div>\n",
              "      <button class=\"colab-df-convert\" onclick=\"convertToInteractive('df-5ab5f88d-ed94-4a14-a2c8-f0c73adde43a')\"\n",
              "              title=\"Convert this dataframe to an interactive table.\"\n",
              "              style=\"display:none;\">\n",
              "        \n",
              "  <svg xmlns=\"http://www.w3.org/2000/svg\" height=\"24px\"viewBox=\"0 0 24 24\"\n",
              "       width=\"24px\">\n",
              "    <path d=\"M0 0h24v24H0V0z\" fill=\"none\"/>\n",
              "    <path d=\"M18.56 5.44l.94 2.06.94-2.06 2.06-.94-2.06-.94-.94-2.06-.94 2.06-2.06.94zm-11 1L8.5 8.5l.94-2.06 2.06-.94-2.06-.94L8.5 2.5l-.94 2.06-2.06.94zm10 10l.94 2.06.94-2.06 2.06-.94-2.06-.94-.94-2.06-.94 2.06-2.06.94z\"/><path d=\"M17.41 7.96l-1.37-1.37c-.4-.4-.92-.59-1.43-.59-.52 0-1.04.2-1.43.59L10.3 9.45l-7.72 7.72c-.78.78-.78 2.05 0 2.83L4 21.41c.39.39.9.59 1.41.59.51 0 1.02-.2 1.41-.59l7.78-7.78 2.81-2.81c.8-.78.8-2.07 0-2.86zM5.41 20L4 18.59l7.72-7.72 1.47 1.35L5.41 20z\"/>\n",
              "  </svg>\n",
              "      </button>\n",
              "      \n",
              "  <style>\n",
              "    .colab-df-container {\n",
              "      display:flex;\n",
              "      flex-wrap:wrap;\n",
              "      gap: 12px;\n",
              "    }\n",
              "\n",
              "    .colab-df-convert {\n",
              "      background-color: #E8F0FE;\n",
              "      border: none;\n",
              "      border-radius: 50%;\n",
              "      cursor: pointer;\n",
              "      display: none;\n",
              "      fill: #1967D2;\n",
              "      height: 32px;\n",
              "      padding: 0 0 0 0;\n",
              "      width: 32px;\n",
              "    }\n",
              "\n",
              "    .colab-df-convert:hover {\n",
              "      background-color: #E2EBFA;\n",
              "      box-shadow: 0px 1px 2px rgba(60, 64, 67, 0.3), 0px 1px 3px 1px rgba(60, 64, 67, 0.15);\n",
              "      fill: #174EA6;\n",
              "    }\n",
              "\n",
              "    [theme=dark] .colab-df-convert {\n",
              "      background-color: #3B4455;\n",
              "      fill: #D2E3FC;\n",
              "    }\n",
              "\n",
              "    [theme=dark] .colab-df-convert:hover {\n",
              "      background-color: #434B5C;\n",
              "      box-shadow: 0px 1px 3px 1px rgba(0, 0, 0, 0.15);\n",
              "      filter: drop-shadow(0px 1px 2px rgba(0, 0, 0, 0.3));\n",
              "      fill: #FFFFFF;\n",
              "    }\n",
              "  </style>\n",
              "\n",
              "      <script>\n",
              "        const buttonEl =\n",
              "          document.querySelector('#df-5ab5f88d-ed94-4a14-a2c8-f0c73adde43a button.colab-df-convert');\n",
              "        buttonEl.style.display =\n",
              "          google.colab.kernel.accessAllowed ? 'block' : 'none';\n",
              "\n",
              "        async function convertToInteractive(key) {\n",
              "          const element = document.querySelector('#df-5ab5f88d-ed94-4a14-a2c8-f0c73adde43a');\n",
              "          const dataTable =\n",
              "            await google.colab.kernel.invokeFunction('convertToInteractive',\n",
              "                                                     [key], {});\n",
              "          if (!dataTable) return;\n",
              "\n",
              "          const docLinkHtml = 'Like what you see? Visit the ' +\n",
              "            '<a target=\"_blank\" href=https://colab.research.google.com/notebooks/data_table.ipynb>data table notebook</a>'\n",
              "            + ' to learn more about interactive tables.';\n",
              "          element.innerHTML = '';\n",
              "          dataTable['output_type'] = 'display_data';\n",
              "          await google.colab.output.renderOutput(dataTable, element);\n",
              "          const docLink = document.createElement('div');\n",
              "          docLink.innerHTML = docLinkHtml;\n",
              "          element.appendChild(docLink);\n",
              "        }\n",
              "      </script>\n",
              "    </div>\n",
              "  </div>\n",
              "  "
            ],
            "text/plain": [
              "       Date    Open    High     Low   Close     Volume\n",
              "0  1/3/2017  778.81  789.63  775.80  786.14  1,657,300\n",
              "1  1/4/2017  788.36  791.34  783.16  786.90  1,073,000\n",
              "2  1/5/2017  786.08  794.48  785.02  794.02  1,335,200"
            ]
          },
          "metadata": {},
          "execution_count": 30
        }
      ]
    },
    {
      "cell_type": "code",
      "source": [
        "real_stock_price[: 3]"
      ],
      "metadata": {
        "colab": {
          "base_uri": "https://localhost:8080/",
          "height": 0
        },
        "id": "5rOcQKmFmpor",
        "outputId": "5778e11c-dd86-47e4-8425-7ed0cab283b6"
      },
      "execution_count": 31,
      "outputs": [
        {
          "output_type": "execute_result",
          "data": {
            "text/plain": [
              "array([[778.81],\n",
              "       [788.36],\n",
              "       [786.08]])"
            ]
          },
          "metadata": {},
          "execution_count": 31
        }
      ]
    },
    {
      "cell_type": "markdown",
      "metadata": {
        "id": "GrvrLblxkz42"
      },
      "source": [
        "### Getting the predicted stock price of 2017"
      ]
    },
    {
      "cell_type": "code",
      "source": [
        "dataset_test.shape"
      ],
      "metadata": {
        "colab": {
          "base_uri": "https://localhost:8080/",
          "height": 0
        },
        "id": "7XOfrPAFpqY8",
        "outputId": "43f6ca97-cd1d-4a2b-ab7d-b84be4ad04f0"
      },
      "execution_count": 32,
      "outputs": [
        {
          "output_type": "execute_result",
          "data": {
            "text/plain": [
              "(20, 6)"
            ]
          },
          "metadata": {},
          "execution_count": 32
        }
      ]
    },
    {
      "cell_type": "code",
      "metadata": {
        "id": "emikTvUpk3Ck"
      },
      "source": [
        "dataset_total = pd.concat((dataset_train['Open'], dataset_test['Open']), axis = 0)\n",
        "inputs = dataset_total[len(dataset_total) - len(dataset_test) - 60:].values\n",
        "inputs = inputs.reshape(-1,1)\n",
        "inputs = sc.transform(inputs)\n",
        "X_test = []\n",
        "for i in range(60, 80):\n",
        "    X_test.append(inputs[i-60:i, 0])\n",
        "X_test = np.array(X_test)\n",
        "X_test = np.reshape(X_test, (X_test.shape[0], X_test.shape[1], 1))\n",
        "predicted_stock_price = regressor.predict(X_test)\n",
        "predicted_stock_price = sc.inverse_transform(predicted_stock_price)"
      ],
      "execution_count": 33,
      "outputs": []
    },
    {
      "cell_type": "markdown",
      "metadata": {
        "id": "iFTNs3YHk6FQ"
      },
      "source": [
        "### Visualising the results"
      ]
    },
    {
      "cell_type": "code",
      "metadata": {
        "id": "8OUI8U49k9tH",
        "colab": {
          "base_uri": "https://localhost:8080/",
          "height": 295
        },
        "outputId": "383efe21-e3b5-4b79-e5bd-3bc1b3706735"
      },
      "source": [
        "plt.plot(real_stock_price, color = 'red', label = 'Real Google Stock Prices/Directions')\n",
        "plt.plot(predicted_stock_price, color = 'blue', label = 'Predicted Google Stock Prices/Directions')\n",
        "plt.title('Google Stock Price Prediction')\n",
        "plt.xlabel('Time')\n",
        "plt.ylabel('Google Stock Price')\n",
        "plt.legend()\n",
        "plt.show()"
      ],
      "execution_count": 39,
      "outputs": [
        {
          "output_type": "display_data",
          "data": {
            "image/png": "[encoded data removed]",
            "text/plain": [
              "<Figure size 432x288 with 1 Axes>"
            ]
          },
          "metadata": {
            "needs_background": "light"
          }
        }
      ]
    }
  ]
}