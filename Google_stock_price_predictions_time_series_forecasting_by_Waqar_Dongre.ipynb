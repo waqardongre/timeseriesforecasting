{
  "nbformat": 4,
  "nbformat_minor": 0,
  "metadata": {
    "colab": {
      "name": "Google_stock_price_predictions_time_series_forecasting_by_Waqar_Dongre_2.ipynb",
      "provenance": [],
      "collapsed_sections": []
    },
    "kernelspec": {
      "name": "python3",
      "display_name": "Python 3"
    },
    "accelerator": "GPU"
  },
  "cells": [
    {
      "cell_type": "markdown",
      "metadata": {
        "id": "xpAuMVCwfWs8"
      },
      "source": [
        "# Time Series Forecasting Using Recurrent Neural Network - LSTMs"
      ]
    },
    {
      "cell_type": "markdown",
      "metadata": {
        "id": "ir9zwETrfbrp"
      },
      "source": [
        "### Importing the libraries"
      ]
    },
    {
      "cell_type": "code",
      "metadata": {
        "id": "ZT1f24vHffuf"
      },
      "source": [
        "import numpy as np\n",
        "import matplotlib.pyplot as plt\n",
        "import pandas as pd\n",
        "from sklearn.metrics import mean_squared_error\n",
        "\n",
        "from sklearn.preprocessing import MinMaxScaler\n",
        "\n",
        "from keras.models import Sequential\n",
        "from keras.layers import Dense\n",
        "from keras.layers import LSTM\n",
        "from keras.layers import Dropout\n",
        "\n",
        "from tensorflow import keras\n",
        "\n",
        "import math\n",
        "from sklearn.metrics import mean_squared_error"
      ],
      "execution_count": 1,
      "outputs": []
    },
    {
      "cell_type": "code",
      "source": [
        "from google.colab import drive\n",
        "drive.mount('/content/drive')"
      ],
      "metadata": {
        "colab": {
          "base_uri": "https://localhost:8080/"
        },
        "id": "kvpbUSIdY_Bf",
        "outputId": "3f4a6899-1829-41f6-ab15-db16f4235903"
      },
      "execution_count": 2,
      "outputs": [
        {
          "output_type": "stream",
          "name": "stdout",
          "text": [
            "Drive already mounted at /content/drive; to attempt to forcibly remount, call drive.mount(\"/content/drive\", force_remount=True).\n"
          ]
        }
      ]
    },
    {
      "cell_type": "code",
      "source": [
        "drive_path = \"/content/drive/MyDrive/datasets/TimeSeries_DS_1/\""
      ],
      "metadata": {
        "id": "F9dxiuReHwEa"
      },
      "execution_count": 3,
      "outputs": []
    },
    {
      "cell_type": "markdown",
      "metadata": {
        "id": "nxJfRe4bfYVA"
      },
      "source": [
        "## Part 1 - Data Preprocessing"
      ]
    },
    {
      "cell_type": "markdown",
      "metadata": {
        "id": "nQ47JAxrgmaL"
      },
      "source": [
        "### Importing the training set"
      ]
    },
    {
      "cell_type": "code",
      "metadata": {
        "id": "1xiv3pJOgqY3"
      },
      "source": [
        "dataset_train = pd.read_csv(drive_path + 'Google_Stock_Price_Train.csv')\n",
        "training_set = dataset_train.iloc[:, 1:2].values"
      ],
      "execution_count": 4,
      "outputs": []
    },
    {
      "cell_type": "markdown",
      "metadata": {
        "id": "HT8_2UJegtG5"
      },
      "source": [
        "### Feature Scaling"
      ]
    },
    {
      "cell_type": "code",
      "source": [
        "dataset_train.head(3)"
      ],
      "metadata": {
        "colab": {
          "base_uri": "https://localhost:8080/",
          "height": 143
        },
        "id": "DYxQOzv4mfXV",
        "outputId": "39d42a45-1dd1-4859-cd14-836c3a28f24c"
      },
      "execution_count": 5,
      "outputs": [
        {
          "output_type": "execute_result",
          "data": {
            "text/html": [
              "\n",
              "  <div id=\"df-a515c7ef-1ff9-4355-9c5b-ccfb59a0ab9c\">\n",
              "    <div class=\"colab-df-container\">\n",
              "      <div>\n",
              "<style scoped>\n",
              "    .dataframe tbody tr th:only-of-type {\n",
              "        vertical-align: middle;\n",
              "    }\n",
              "\n",
              "    .dataframe tbody tr th {\n",
              "        vertical-align: top;\n",
              "    }\n",
              "\n",
              "    .dataframe thead th {\n",
              "        text-align: right;\n",
              "    }\n",
              "</style>\n",
              "<table border=\"1\" class=\"dataframe\">\n",
              "  <thead>\n",
              "    <tr style=\"text-align: right;\">\n",
              "      <th></th>\n",
              "      <th>Date</th>\n",
              "      <th>Open</th>\n",
              "      <th>High</th>\n",
              "      <th>Low</th>\n",
              "      <th>Close</th>\n",
              "      <th>Volume</th>\n",
              "    </tr>\n",
              "  </thead>\n",
              "  <tbody>\n",
              "    <tr>\n",
              "      <th>0</th>\n",
              "      <td>1/3/2012</td>\n",
              "      <td>325.25</td>\n",
              "      <td>332.83</td>\n",
              "      <td>324.97</td>\n",
              "      <td>663.59</td>\n",
              "      <td>7,380,500</td>\n",
              "    </tr>\n",
              "    <tr>\n",
              "      <th>1</th>\n",
              "      <td>1/4/2012</td>\n",
              "      <td>331.27</td>\n",
              "      <td>333.87</td>\n",
              "      <td>329.08</td>\n",
              "      <td>666.45</td>\n",
              "      <td>5,749,400</td>\n",
              "    </tr>\n",
              "    <tr>\n",
              "      <th>2</th>\n",
              "      <td>1/5/2012</td>\n",
              "      <td>329.83</td>\n",
              "      <td>330.75</td>\n",
              "      <td>326.89</td>\n",
              "      <td>657.21</td>\n",
              "      <td>6,590,300</td>\n",
              "    </tr>\n",
              "  </tbody>\n",
              "</table>\n",
              "</div>\n",
              "      <button class=\"colab-df-convert\" onclick=\"convertToInteractive('df-a515c7ef-1ff9-4355-9c5b-ccfb59a0ab9c')\"\n",
              "              title=\"Convert this dataframe to an interactive table.\"\n",
              "              style=\"display:none;\">\n",
              "        \n",
              "  <svg xmlns=\"http://www.w3.org/2000/svg\" height=\"24px\"viewBox=\"0 0 24 24\"\n",
              "       width=\"24px\">\n",
              "    <path d=\"M0 0h24v24H0V0z\" fill=\"none\"/>\n",
              "    <path d=\"M18.56 5.44l.94 2.06.94-2.06 2.06-.94-2.06-.94-.94-2.06-.94 2.06-2.06.94zm-11 1L8.5 8.5l.94-2.06 2.06-.94-2.06-.94L8.5 2.5l-.94 2.06-2.06.94zm10 10l.94 2.06.94-2.06 2.06-.94-2.06-.94-.94-2.06-.94 2.06-2.06.94z\"/><path d=\"M17.41 7.96l-1.37-1.37c-.4-.4-.92-.59-1.43-.59-.52 0-1.04.2-1.43.59L10.3 9.45l-7.72 7.72c-.78.78-.78 2.05 0 2.83L4 21.41c.39.39.9.59 1.41.59.51 0 1.02-.2 1.41-.59l7.78-7.78 2.81-2.81c.8-.78.8-2.07 0-2.86zM5.41 20L4 18.59l7.72-7.72 1.47 1.35L5.41 20z\"/>\n",
              "  </svg>\n",
              "      </button>\n",
              "      \n",
              "  <style>\n",
              "    .colab-df-container {\n",
              "      display:flex;\n",
              "      flex-wrap:wrap;\n",
              "      gap: 12px;\n",
              "    }\n",
              "\n",
              "    .colab-df-convert {\n",
              "      background-color: #E8F0FE;\n",
              "      border: none;\n",
              "      border-radius: 50%;\n",
              "      cursor: pointer;\n",
              "      display: none;\n",
              "      fill: #1967D2;\n",
              "      height: 32px;\n",
              "      padding: 0 0 0 0;\n",
              "      width: 32px;\n",
              "    }\n",
              "\n",
              "    .colab-df-convert:hover {\n",
              "      background-color: #E2EBFA;\n",
              "      box-shadow: 0px 1px 2px rgba(60, 64, 67, 0.3), 0px 1px 3px 1px rgba(60, 64, 67, 0.15);\n",
              "      fill: #174EA6;\n",
              "    }\n",
              "\n",
              "    [theme=dark] .colab-df-convert {\n",
              "      background-color: #3B4455;\n",
              "      fill: #D2E3FC;\n",
              "    }\n",
              "\n",
              "    [theme=dark] .colab-df-convert:hover {\n",
              "      background-color: #434B5C;\n",
              "      box-shadow: 0px 1px 3px 1px rgba(0, 0, 0, 0.15);\n",
              "      filter: drop-shadow(0px 1px 2px rgba(0, 0, 0, 0.3));\n",
              "      fill: #FFFFFF;\n",
              "    }\n",
              "  </style>\n",
              "\n",
              "      <script>\n",
              "        const buttonEl =\n",
              "          document.querySelector('#df-a515c7ef-1ff9-4355-9c5b-ccfb59a0ab9c button.colab-df-convert');\n",
              "        buttonEl.style.display =\n",
              "          google.colab.kernel.accessAllowed ? 'block' : 'none';\n",
              "\n",
              "        async function convertToInteractive(key) {\n",
              "          const element = document.querySelector('#df-a515c7ef-1ff9-4355-9c5b-ccfb59a0ab9c');\n",
              "          const dataTable =\n",
              "            await google.colab.kernel.invokeFunction('convertToInteractive',\n",
              "                                                     [key], {});\n",
              "          if (!dataTable) return;\n",
              "\n",
              "          const docLinkHtml = 'Like what you see? Visit the ' +\n",
              "            '<a target=\"_blank\" href=https://colab.research.google.com/notebooks/data_table.ipynb>data table notebook</a>'\n",
              "            + ' to learn more about interactive tables.';\n",
              "          element.innerHTML = '';\n",
              "          dataTable['output_type'] = 'display_data';\n",
              "          await google.colab.output.renderOutput(dataTable, element);\n",
              "          const docLink = document.createElement('div');\n",
              "          docLink.innerHTML = docLinkHtml;\n",
              "          element.appendChild(docLink);\n",
              "        }\n",
              "      </script>\n",
              "    </div>\n",
              "  </div>\n",
              "  "
            ],
            "text/plain": [
              "       Date    Open    High     Low   Close     Volume\n",
              "0  1/3/2012  325.25  332.83  324.97  663.59  7,380,500\n",
              "1  1/4/2012  331.27  333.87  329.08  666.45  5,749,400\n",
              "2  1/5/2012  329.83  330.75  326.89  657.21  6,590,300"
            ]
          },
          "metadata": {},
          "execution_count": 5
        }
      ]
    },
    {
      "cell_type": "code",
      "source": [
        "dataset_train.shape, training_set.shape"
      ],
      "metadata": {
        "colab": {
          "base_uri": "https://localhost:8080/"
        },
        "id": "20rridc3oD9Y",
        "outputId": "d8641737-5f2e-4d3a-d0b7-c58d1cb9bfc1"
      },
      "execution_count": 6,
      "outputs": [
        {
          "output_type": "execute_result",
          "data": {
            "text/plain": [
              "((1258, 6), (1258, 1))"
            ]
          },
          "metadata": {},
          "execution_count": 6
        }
      ]
    },
    {
      "cell_type": "code",
      "source": [
        "training_set[: 3]"
      ],
      "metadata": {
        "colab": {
          "base_uri": "https://localhost:8080/"
        },
        "id": "CH96AX7wmhuc",
        "outputId": "e029ea7c-8ead-488b-cceb-223da80f4255"
      },
      "execution_count": 7,
      "outputs": [
        {
          "output_type": "execute_result",
          "data": {
            "text/plain": [
              "array([[325.25],\n",
              "       [331.27],\n",
              "       [329.83]])"
            ]
          },
          "metadata": {},
          "execution_count": 7
        }
      ]
    },
    {
      "cell_type": "markdown",
      "source": [
        "### Scaling"
      ],
      "metadata": {
        "id": "OWxAVP1L2Ryy"
      }
    },
    {
      "cell_type": "code",
      "metadata": {
        "id": "OTrF2kR7gx9x"
      },
      "source": [
        "sc = MinMaxScaler(feature_range = (0, 1))\n",
        "training_set_scaled = sc.fit_transform(training_set)"
      ],
      "execution_count": 8,
      "outputs": []
    },
    {
      "cell_type": "markdown",
      "metadata": {
        "id": "JyYgYocqhNUg"
      },
      "source": [
        "### Creating a data structure with 120 timesteps and 1 output"
      ]
    },
    {
      "cell_type": "code",
      "metadata": {
        "id": "iofU21B0i6ST"
      },
      "source": [
        "X_train = []\n",
        "y_train = []\n",
        "for i in range(120, 1258):\n",
        "    X_train.append(training_set_scaled[i-120:i, 0])\n",
        "    y_train.append(training_set_scaled[i, 0])\n",
        "X_train, y_train = np.array(X_train), np.array(y_train)"
      ],
      "execution_count": 13,
      "outputs": []
    },
    {
      "cell_type": "markdown",
      "metadata": {
        "id": "D8yaN7Zvi95l"
      },
      "source": [
        "### Reshaping"
      ]
    },
    {
      "cell_type": "code",
      "metadata": {
        "id": "FOXqJHmNjBkz"
      },
      "source": [
        "X_train = np.reshape(X_train, (X_train.shape[0], X_train.shape[1], 1))"
      ],
      "execution_count": 14,
      "outputs": []
    },
    {
      "cell_type": "code",
      "source": [
        "X_train.shape"
      ],
      "metadata": {
        "colab": {
          "base_uri": "https://localhost:8080/"
        },
        "id": "b8BOPtnM8lGc",
        "outputId": "83c0da8f-a1ca-4858-d659-8b0e4e86f57f"
      },
      "execution_count": 15,
      "outputs": [
        {
          "output_type": "execute_result",
          "data": {
            "text/plain": [
              "(1138, 120, 1)"
            ]
          },
          "metadata": {},
          "execution_count": 15
        }
      ]
    },
    {
      "cell_type": "code",
      "source": [
        "y_train.shape"
      ],
      "metadata": {
        "colab": {
          "base_uri": "https://localhost:8080/"
        },
        "id": "mcQBFiUV8moN",
        "outputId": "f2efd0e1-5d2c-400c-930d-80d8fd2340ce"
      },
      "execution_count": 16,
      "outputs": [
        {
          "output_type": "execute_result",
          "data": {
            "text/plain": [
              "(1138,)"
            ]
          },
          "metadata": {},
          "execution_count": 16
        }
      ]
    },
    {
      "cell_type": "markdown",
      "metadata": {
        "id": "ZRRSOJeVjEWV"
      },
      "source": [
        "## Part 2 - Building and Training the RNN"
      ]
    },
    {
      "cell_type": "markdown",
      "metadata": {
        "id": "FEIE-1s9jNzC"
      },
      "source": [
        "### Initialising the RNN"
      ]
    },
    {
      "cell_type": "code",
      "metadata": {
        "id": "1338dJ0UjRKH"
      },
      "source": [
        "regressor = Sequential()"
      ],
      "execution_count": 17,
      "outputs": []
    },
    {
      "cell_type": "markdown",
      "metadata": {
        "id": "62eg1OPGjT8z"
      },
      "source": [
        "### Adding the 1st LSTM layer and some Dropout regularisation"
      ]
    },
    {
      "cell_type": "code",
      "metadata": {
        "id": "2hIinyXUjbVU"
      },
      "source": [
        "regressor.add(LSTM(units = 300, return_sequences = True, input_shape = (X_train.shape[1], 1)))\n",
        "regressor.add(Dropout(0.2))"
      ],
      "execution_count": 18,
      "outputs": []
    },
    {
      "cell_type": "markdown",
      "metadata": {
        "id": "3XBIYLyOjlMx"
      },
      "source": [
        "### Adding a 2nd LSTM layer and some Dropout regularisation"
      ]
    },
    {
      "cell_type": "code",
      "metadata": {
        "id": "UG7nrVaSjuZ2"
      },
      "source": [
        "regressor.add(LSTM(units = 300, return_sequences = True))\n",
        "regressor.add(Dropout(0.2))"
      ],
      "execution_count": 19,
      "outputs": []
    },
    {
      "cell_type": "markdown",
      "metadata": {
        "id": "Ey3fHVnGj1cu"
      },
      "source": [
        "### Adding a 3rd LSTM layer and some Dropout regularisation"
      ]
    },
    {
      "cell_type": "code",
      "metadata": {
        "id": "PuNi6PgFj7jO"
      },
      "source": [
        "regressor.add(LSTM(units = 300, return_sequences = True))\n",
        "regressor.add(Dropout(0.2))"
      ],
      "execution_count": 20,
      "outputs": []
    },
    {
      "cell_type": "markdown",
      "metadata": {
        "id": "SYTrtfTmj933"
      },
      "source": [
        "### Adding a 4th LSTM layer and some Dropout regularisation"
      ]
    },
    {
      "cell_type": "code",
      "metadata": {
        "id": "Jp4Ty8fRkBYV"
      },
      "source": [
        "regressor.add(LSTM(units = 300, return_sequences = True))\n",
        "regressor.add(Dropout(0.2))"
      ],
      "execution_count": 21,
      "outputs": []
    },
    {
      "cell_type": "markdown",
      "metadata": {
        "id": "WtxlrgHdyrNC"
      },
      "source": [
        "### Adding a 5th LSTM layer and some Dropout regularisation"
      ]
    },
    {
      "cell_type": "code",
      "metadata": {
        "id": "k17VqqXpyrND"
      },
      "source": [
        "regressor.add(LSTM(units = 300, return_sequences = True))\n",
        "regressor.add(Dropout(0.2))"
      ],
      "execution_count": 22,
      "outputs": []
    },
    {
      "cell_type": "markdown",
      "metadata": {
        "id": "mitJYTrwyrss"
      },
      "source": [
        "### Adding a 6th LSTM layer and some Dropout regularisation"
      ]
    },
    {
      "cell_type": "code",
      "metadata": {
        "id": "0PR9uGe-yrss"
      },
      "source": [
        "regressor.add(LSTM(units = 300, return_sequences = True))\n",
        "regressor.add(Dropout(0.2))"
      ],
      "execution_count": 23,
      "outputs": []
    },
    {
      "cell_type": "markdown",
      "metadata": {
        "id": "qZThLA8Be0AK"
      },
      "source": [
        "### Adding a 7th LSTM layer and some Dropout regularisation"
      ]
    },
    {
      "cell_type": "code",
      "metadata": {
        "id": "9B6bXYL1e0AK"
      },
      "source": [
        "regressor.add(LSTM(units = 300))\n",
        "regressor.add(Dropout(0.2))"
      ],
      "execution_count": 24,
      "outputs": []
    },
    {
      "cell_type": "markdown",
      "metadata": {
        "id": "9ABI6rOIkHhk"
      },
      "source": [
        "### Adding the output layer"
      ]
    },
    {
      "cell_type": "code",
      "metadata": {
        "id": "aM6R1z4WkME8"
      },
      "source": [
        "regressor.add(Dense(units = 1))"
      ],
      "execution_count": 25,
      "outputs": []
    },
    {
      "cell_type": "markdown",
      "metadata": {
        "id": "zLx4K7uUkPSh"
      },
      "source": [
        "### Compiling the RNN"
      ]
    },
    {
      "cell_type": "code",
      "metadata": {
        "id": "XTrhVN-tkbko"
      },
      "source": [
        "regressor.compile(optimizer = 'adam', loss = 'mean_squared_error')"
      ],
      "execution_count": 26,
      "outputs": []
    },
    {
      "cell_type": "markdown",
      "metadata": {
        "id": "-mPhwKGkkebi"
      },
      "source": [
        "### Fitting the RNN to the Training set"
      ]
    },
    {
      "cell_type": "code",
      "metadata": {
        "id": "I06Nkrz5kkb-",
        "colab": {
          "base_uri": "https://localhost:8080/"
        },
        "outputId": "3a9d1db1-0e92-432e-9483-fb9d51802c5a"
      },
      "source": [
        "regressor.fit(X_train, y_train, epochs = 200, batch_size = 64)"
      ],
      "execution_count": 27,
      "outputs": [
        {
          "output_type": "stream",
          "name": "stdout",
          "text": [
            "Epoch 1/200\n",
            "18/18 [==============================] - 20s 322ms/step - loss: 1.2771\n",
            "Epoch 2/200\n",
            "18/18 [==============================] - 6s 319ms/step - loss: 0.0340\n",
            "Epoch 3/200\n",
            "18/18 [==============================] - 6s 320ms/step - loss: 0.0093\n",
            "Epoch 4/200\n",
            "18/18 [==============================] - 6s 319ms/step - loss: 0.0059\n",
            "Epoch 5/200\n",
            "18/18 [==============================] - 6s 318ms/step - loss: 0.0057\n",
            "Epoch 6/200\n",
            "18/18 [==============================] - 6s 318ms/step - loss: 0.0049\n",
            "Epoch 7/200\n",
            "18/18 [==============================] - 6s 319ms/step - loss: 0.0044\n",
            "Epoch 8/200\n",
            "18/18 [==============================] - 6s 320ms/step - loss: 0.0047\n",
            "Epoch 9/200\n",
            "18/18 [==============================] - 6s 318ms/step - loss: 0.0043\n",
            "Epoch 10/200\n",
            "18/18 [==============================] - 6s 320ms/step - loss: 0.0042\n",
            "Epoch 11/200\n",
            "18/18 [==============================] - 6s 319ms/step - loss: 0.0041\n",
            "Epoch 12/200\n",
            "18/18 [==============================] - 6s 320ms/step - loss: 0.0042\n",
            "Epoch 13/200\n",
            "18/18 [==============================] - 6s 319ms/step - loss: 0.0047\n",
            "Epoch 14/200\n",
            "18/18 [==============================] - 6s 319ms/step - loss: 0.0036\n",
            "Epoch 15/200\n",
            "18/18 [==============================] - 6s 320ms/step - loss: 0.0039\n",
            "Epoch 16/200\n",
            "18/18 [==============================] - 6s 320ms/step - loss: 0.0050\n",
            "Epoch 17/200\n",
            "18/18 [==============================] - 6s 319ms/step - loss: 0.0039\n",
            "Epoch 18/200\n",
            "18/18 [==============================] - 6s 319ms/step - loss: 0.0037\n",
            "Epoch 19/200\n",
            "18/18 [==============================] - 6s 319ms/step - loss: 0.0035\n",
            "Epoch 20/200\n",
            "18/18 [==============================] - 6s 318ms/step - loss: 0.0035\n",
            "Epoch 21/200\n",
            "18/18 [==============================] - 6s 318ms/step - loss: 0.0042\n",
            "Epoch 22/200\n",
            "18/18 [==============================] - 6s 318ms/step - loss: 0.0037\n",
            "Epoch 23/200\n",
            "18/18 [==============================] - 6s 317ms/step - loss: 0.0041\n",
            "Epoch 24/200\n",
            "18/18 [==============================] - 6s 320ms/step - loss: 0.0034\n",
            "Epoch 25/200\n",
            "18/18 [==============================] - 6s 320ms/step - loss: 0.0032\n",
            "Epoch 26/200\n",
            "18/18 [==============================] - 6s 318ms/step - loss: 0.0030\n",
            "Epoch 27/200\n",
            "18/18 [==============================] - 6s 319ms/step - loss: 0.0031\n",
            "Epoch 28/200\n",
            "18/18 [==============================] - 6s 319ms/step - loss: 0.0029\n",
            "Epoch 29/200\n",
            "18/18 [==============================] - 6s 318ms/step - loss: 0.0034\n",
            "Epoch 30/200\n",
            "18/18 [==============================] - 6s 319ms/step - loss: 0.0030\n",
            "Epoch 31/200\n",
            "18/18 [==============================] - 6s 319ms/step - loss: 0.0034\n",
            "Epoch 32/200\n",
            "18/18 [==============================] - 6s 319ms/step - loss: 0.0032\n",
            "Epoch 33/200\n",
            "18/18 [==============================] - 6s 319ms/step - loss: 0.0028\n",
            "Epoch 34/200\n",
            "18/18 [==============================] - 6s 319ms/step - loss: 0.0028\n",
            "Epoch 35/200\n",
            "18/18 [==============================] - 6s 317ms/step - loss: 0.0025\n",
            "Epoch 36/200\n",
            "18/18 [==============================] - 6s 320ms/step - loss: 0.0025\n",
            "Epoch 37/200\n",
            "18/18 [==============================] - 6s 318ms/step - loss: 0.0026\n",
            "Epoch 38/200\n",
            "18/18 [==============================] - 6s 319ms/step - loss: 0.0030\n",
            "Epoch 39/200\n",
            "18/18 [==============================] - 6s 318ms/step - loss: 0.0033\n",
            "Epoch 40/200\n",
            "18/18 [==============================] - 6s 317ms/step - loss: 0.0026\n",
            "Epoch 41/200\n",
            "18/18 [==============================] - 6s 316ms/step - loss: 0.0029\n",
            "Epoch 42/200\n",
            "18/18 [==============================] - 6s 319ms/step - loss: 0.0033\n",
            "Epoch 43/200\n",
            "18/18 [==============================] - 6s 318ms/step - loss: 0.0038\n",
            "Epoch 44/200\n",
            "18/18 [==============================] - 6s 317ms/step - loss: 0.0027\n",
            "Epoch 45/200\n",
            "18/18 [==============================] - 6s 317ms/step - loss: 0.0025\n",
            "Epoch 46/200\n",
            "18/18 [==============================] - 6s 315ms/step - loss: 0.0024\n",
            "Epoch 47/200\n",
            "18/18 [==============================] - 6s 317ms/step - loss: 0.0024\n",
            "Epoch 48/200\n",
            "18/18 [==============================] - 6s 319ms/step - loss: 0.0026\n",
            "Epoch 49/200\n",
            "18/18 [==============================] - 6s 319ms/step - loss: 0.0024\n",
            "Epoch 50/200\n",
            "18/18 [==============================] - 6s 319ms/step - loss: 0.0028\n",
            "Epoch 51/200\n",
            "18/18 [==============================] - 6s 318ms/step - loss: 0.0025\n",
            "Epoch 52/200\n",
            "18/18 [==============================] - 6s 317ms/step - loss: 0.0023\n",
            "Epoch 53/200\n",
            "18/18 [==============================] - 6s 318ms/step - loss: 0.0022\n",
            "Epoch 54/200\n",
            "18/18 [==============================] - 6s 319ms/step - loss: 0.0023\n",
            "Epoch 55/200\n",
            "18/18 [==============================] - 6s 318ms/step - loss: 0.0026\n",
            "Epoch 56/200\n",
            "18/18 [==============================] - 6s 317ms/step - loss: 0.0026\n",
            "Epoch 57/200\n",
            "18/18 [==============================] - 6s 319ms/step - loss: 0.0022\n",
            "Epoch 58/200\n",
            "18/18 [==============================] - 6s 318ms/step - loss: 0.0026\n",
            "Epoch 59/200\n",
            "18/18 [==============================] - 6s 319ms/step - loss: 0.0030\n",
            "Epoch 60/200\n",
            "18/18 [==============================] - 6s 319ms/step - loss: 0.0025\n",
            "Epoch 61/200\n",
            "18/18 [==============================] - 6s 318ms/step - loss: 0.0022\n",
            "Epoch 62/200\n",
            "18/18 [==============================] - 6s 319ms/step - loss: 0.0022\n",
            "Epoch 63/200\n",
            "18/18 [==============================] - 6s 318ms/step - loss: 0.0027\n",
            "Epoch 64/200\n",
            "18/18 [==============================] - 6s 318ms/step - loss: 0.0022\n",
            "Epoch 65/200\n",
            "18/18 [==============================] - 6s 318ms/step - loss: 0.0023\n",
            "Epoch 66/200\n",
            "18/18 [==============================] - 6s 318ms/step - loss: 0.0024\n",
            "Epoch 67/200\n",
            "18/18 [==============================] - 6s 317ms/step - loss: 0.0021\n",
            "Epoch 68/200\n",
            "18/18 [==============================] - 6s 318ms/step - loss: 0.0022\n",
            "Epoch 69/200\n",
            "18/18 [==============================] - 6s 318ms/step - loss: 0.0022\n",
            "Epoch 70/200\n",
            "18/18 [==============================] - 6s 316ms/step - loss: 0.0024\n",
            "Epoch 71/200\n",
            "18/18 [==============================] - 6s 319ms/step - loss: 0.0023\n",
            "Epoch 72/200\n",
            "18/18 [==============================] - 6s 317ms/step - loss: 0.0027\n",
            "Epoch 73/200\n",
            "18/18 [==============================] - 6s 319ms/step - loss: 0.0023\n",
            "Epoch 74/200\n",
            "18/18 [==============================] - 6s 318ms/step - loss: 0.0021\n",
            "Epoch 75/200\n",
            "18/18 [==============================] - 6s 318ms/step - loss: 0.0022\n",
            "Epoch 76/200\n",
            "18/18 [==============================] - 6s 318ms/step - loss: 0.0024\n",
            "Epoch 77/200\n",
            "18/18 [==============================] - 6s 319ms/step - loss: 0.0021\n",
            "Epoch 78/200\n",
            "18/18 [==============================] - 6s 319ms/step - loss: 0.0020\n",
            "Epoch 79/200\n",
            "18/18 [==============================] - 6s 318ms/step - loss: 0.0020\n",
            "Epoch 80/200\n",
            "18/18 [==============================] - 6s 318ms/step - loss: 0.0020\n",
            "Epoch 81/200\n",
            "18/18 [==============================] - 6s 318ms/step - loss: 0.0021\n",
            "Epoch 82/200\n",
            "18/18 [==============================] - 6s 318ms/step - loss: 0.0019\n",
            "Epoch 83/200\n",
            "18/18 [==============================] - 6s 318ms/step - loss: 0.0021\n",
            "Epoch 84/200\n",
            "18/18 [==============================] - 6s 318ms/step - loss: 0.0022\n",
            "Epoch 85/200\n",
            "18/18 [==============================] - 6s 317ms/step - loss: 0.0021\n",
            "Epoch 86/200\n",
            "18/18 [==============================] - 6s 318ms/step - loss: 0.0018\n",
            "Epoch 87/200\n",
            "18/18 [==============================] - 6s 318ms/step - loss: 0.0019\n",
            "Epoch 88/200\n",
            "18/18 [==============================] - 6s 319ms/step - loss: 0.0019\n",
            "Epoch 89/200\n",
            "18/18 [==============================] - 6s 318ms/step - loss: 0.0022\n",
            "Epoch 90/200\n",
            "18/18 [==============================] - 6s 317ms/step - loss: 0.0019\n",
            "Epoch 91/200\n",
            "18/18 [==============================] - 6s 315ms/step - loss: 0.0023\n",
            "Epoch 92/200\n",
            "18/18 [==============================] - 6s 317ms/step - loss: 0.0019\n",
            "Epoch 93/200\n",
            "18/18 [==============================] - 6s 315ms/step - loss: 0.0018\n",
            "Epoch 94/200\n",
            "18/18 [==============================] - 6s 318ms/step - loss: 0.0019\n",
            "Epoch 95/200\n",
            "18/18 [==============================] - 6s 317ms/step - loss: 0.0020\n",
            "Epoch 96/200\n",
            "18/18 [==============================] - 6s 316ms/step - loss: 0.0017\n",
            "Epoch 97/200\n",
            "18/18 [==============================] - 6s 319ms/step - loss: 0.0021\n",
            "Epoch 98/200\n",
            "18/18 [==============================] - 6s 319ms/step - loss: 0.0018\n",
            "Epoch 99/200\n",
            "18/18 [==============================] - 6s 319ms/step - loss: 0.0016\n",
            "Epoch 100/200\n",
            "18/18 [==============================] - 6s 319ms/step - loss: 0.0015\n",
            "Epoch 101/200\n",
            "18/18 [==============================] - 6s 318ms/step - loss: 0.0019\n",
            "Epoch 102/200\n",
            "18/18 [==============================] - 6s 317ms/step - loss: 0.0018\n",
            "Epoch 103/200\n",
            "18/18 [==============================] - 6s 319ms/step - loss: 0.0019\n",
            "Epoch 104/200\n",
            "18/18 [==============================] - 6s 319ms/step - loss: 0.0016\n",
            "Epoch 105/200\n",
            "18/18 [==============================] - 6s 316ms/step - loss: 0.0016\n",
            "Epoch 106/200\n",
            "18/18 [==============================] - 6s 318ms/step - loss: 0.0015\n",
            "Epoch 107/200\n",
            "18/18 [==============================] - 6s 318ms/step - loss: 0.0015\n",
            "Epoch 108/200\n",
            "18/18 [==============================] - 6s 319ms/step - loss: 0.0019\n",
            "Epoch 109/200\n",
            "18/18 [==============================] - 6s 318ms/step - loss: 0.0015\n",
            "Epoch 110/200\n",
            "18/18 [==============================] - 6s 318ms/step - loss: 0.0015\n",
            "Epoch 111/200\n",
            "18/18 [==============================] - 6s 317ms/step - loss: 0.0017\n",
            "Epoch 112/200\n",
            "18/18 [==============================] - 6s 317ms/step - loss: 0.0017\n",
            "Epoch 113/200\n",
            "18/18 [==============================] - 6s 318ms/step - loss: 0.0013\n",
            "Epoch 114/200\n",
            "18/18 [==============================] - 6s 319ms/step - loss: 0.0014\n",
            "Epoch 115/200\n",
            "18/18 [==============================] - 6s 318ms/step - loss: 0.0015\n",
            "Epoch 116/200\n",
            "18/18 [==============================] - 6s 317ms/step - loss: 0.0015\n",
            "Epoch 117/200\n",
            "18/18 [==============================] - 6s 317ms/step - loss: 0.0015\n",
            "Epoch 118/200\n",
            "18/18 [==============================] - 6s 317ms/step - loss: 0.0016\n",
            "Epoch 119/200\n",
            "18/18 [==============================] - 6s 318ms/step - loss: 0.0014\n",
            "Epoch 120/200\n",
            "18/18 [==============================] - 6s 318ms/step - loss: 0.0014\n",
            "Epoch 121/200\n",
            "18/18 [==============================] - 6s 320ms/step - loss: 0.0014\n",
            "Epoch 122/200\n",
            "18/18 [==============================] - 6s 318ms/step - loss: 0.0013\n",
            "Epoch 123/200\n",
            "18/18 [==============================] - 6s 319ms/step - loss: 0.0013\n",
            "Epoch 124/200\n",
            "18/18 [==============================] - 6s 319ms/step - loss: 0.0013\n",
            "Epoch 125/200\n",
            "18/18 [==============================] - 6s 319ms/step - loss: 0.0013\n",
            "Epoch 126/200\n",
            "18/18 [==============================] - 6s 319ms/step - loss: 0.0013\n",
            "Epoch 127/200\n",
            "18/18 [==============================] - 6s 318ms/step - loss: 0.0013\n",
            "Epoch 128/200\n",
            "18/18 [==============================] - 6s 318ms/step - loss: 0.0014\n",
            "Epoch 129/200\n",
            "18/18 [==============================] - 6s 318ms/step - loss: 0.0013\n",
            "Epoch 130/200\n",
            "18/18 [==============================] - 6s 318ms/step - loss: 0.0014\n",
            "Epoch 131/200\n",
            "18/18 [==============================] - 6s 318ms/step - loss: 0.0015\n",
            "Epoch 132/200\n",
            "18/18 [==============================] - 6s 318ms/step - loss: 0.0014\n",
            "Epoch 133/200\n",
            "18/18 [==============================] - 6s 319ms/step - loss: 0.0013\n",
            "Epoch 134/200\n",
            "18/18 [==============================] - 6s 317ms/step - loss: 0.0013\n",
            "Epoch 135/200\n",
            "18/18 [==============================] - 6s 318ms/step - loss: 0.0015\n",
            "Epoch 136/200\n",
            "18/18 [==============================] - 6s 318ms/step - loss: 0.0015\n",
            "Epoch 137/200\n",
            "18/18 [==============================] - 6s 318ms/step - loss: 0.0013\n",
            "Epoch 138/200\n",
            "18/18 [==============================] - 6s 319ms/step - loss: 0.0013\n",
            "Epoch 139/200\n",
            "18/18 [==============================] - 6s 317ms/step - loss: 0.0013\n",
            "Epoch 140/200\n",
            "18/18 [==============================] - 6s 318ms/step - loss: 0.0013\n",
            "Epoch 141/200\n",
            "18/18 [==============================] - 6s 316ms/step - loss: 0.0014\n",
            "Epoch 142/200\n",
            "18/18 [==============================] - 6s 317ms/step - loss: 0.0011\n",
            "Epoch 143/200\n",
            "18/18 [==============================] - 6s 316ms/step - loss: 0.0011\n",
            "Epoch 144/200\n",
            "18/18 [==============================] - 6s 317ms/step - loss: 0.0013\n",
            "Epoch 145/200\n",
            "18/18 [==============================] - 6s 319ms/step - loss: 0.0012\n",
            "Epoch 146/200\n",
            "18/18 [==============================] - 6s 318ms/step - loss: 0.0012\n",
            "Epoch 147/200\n",
            "18/18 [==============================] - 6s 318ms/step - loss: 0.0011\n",
            "Epoch 148/200\n",
            "18/18 [==============================] - 6s 318ms/step - loss: 0.0013\n",
            "Epoch 149/200\n",
            "18/18 [==============================] - 6s 318ms/step - loss: 0.0016\n",
            "Epoch 150/200\n",
            "18/18 [==============================] - 6s 318ms/step - loss: 0.0017\n",
            "Epoch 151/200\n",
            "18/18 [==============================] - 6s 319ms/step - loss: 0.0012\n",
            "Epoch 152/200\n",
            "18/18 [==============================] - 6s 318ms/step - loss: 0.0011\n",
            "Epoch 153/200\n",
            "18/18 [==============================] - 6s 318ms/step - loss: 0.0014\n",
            "Epoch 154/200\n",
            "18/18 [==============================] - 6s 318ms/step - loss: 0.0011\n",
            "Epoch 155/200\n",
            "18/18 [==============================] - 6s 317ms/step - loss: 0.0012\n",
            "Epoch 156/200\n",
            "18/18 [==============================] - 6s 318ms/step - loss: 0.0018\n",
            "Epoch 157/200\n",
            "18/18 [==============================] - 6s 319ms/step - loss: 0.0018\n",
            "Epoch 158/200\n",
            "18/18 [==============================] - 6s 318ms/step - loss: 0.0015\n",
            "Epoch 159/200\n",
            "18/18 [==============================] - 6s 318ms/step - loss: 0.0016\n",
            "Epoch 160/200\n",
            "18/18 [==============================] - 6s 318ms/step - loss: 0.0011\n",
            "Epoch 161/200\n",
            "18/18 [==============================] - 6s 319ms/step - loss: 0.0012\n",
            "Epoch 162/200\n",
            "18/18 [==============================] - 6s 318ms/step - loss: 0.0011\n",
            "Epoch 163/200\n",
            "18/18 [==============================] - 6s 319ms/step - loss: 9.9022e-04\n",
            "Epoch 164/200\n",
            "18/18 [==============================] - 6s 318ms/step - loss: 0.0010\n",
            "Epoch 165/200\n",
            "18/18 [==============================] - 6s 318ms/step - loss: 0.0011\n",
            "Epoch 166/200\n",
            "18/18 [==============================] - 6s 316ms/step - loss: 0.0011\n",
            "Epoch 167/200\n",
            "18/18 [==============================] - 6s 316ms/step - loss: 9.9962e-04\n",
            "Epoch 168/200\n",
            "18/18 [==============================] - 6s 317ms/step - loss: 0.0011\n",
            "Epoch 169/200\n",
            "18/18 [==============================] - 6s 320ms/step - loss: 0.0012\n",
            "Epoch 170/200\n",
            "18/18 [==============================] - 6s 320ms/step - loss: 9.8930e-04\n",
            "Epoch 171/200\n",
            "18/18 [==============================] - 6s 320ms/step - loss: 0.0010\n",
            "Epoch 172/200\n",
            "18/18 [==============================] - 6s 320ms/step - loss: 0.0010\n",
            "Epoch 173/200\n",
            "18/18 [==============================] - 6s 319ms/step - loss: 0.0011\n",
            "Epoch 174/200\n",
            "18/18 [==============================] - 6s 319ms/step - loss: 0.0011\n",
            "Epoch 175/200\n",
            "18/18 [==============================] - 6s 320ms/step - loss: 0.0012\n",
            "Epoch 176/200\n",
            "18/18 [==============================] - 6s 319ms/step - loss: 0.0012\n",
            "Epoch 177/200\n",
            "18/18 [==============================] - 6s 319ms/step - loss: 0.0013\n",
            "Epoch 178/200\n",
            "18/18 [==============================] - 6s 320ms/step - loss: 0.0011\n",
            "Epoch 179/200\n",
            "18/18 [==============================] - 6s 321ms/step - loss: 9.6559e-04\n",
            "Epoch 180/200\n",
            "18/18 [==============================] - 6s 321ms/step - loss: 9.5882e-04\n",
            "Epoch 181/200\n",
            "18/18 [==============================] - 6s 319ms/step - loss: 0.0015\n",
            "Epoch 182/200\n",
            "18/18 [==============================] - 6s 320ms/step - loss: 0.0013\n",
            "Epoch 183/200\n",
            "18/18 [==============================] - 6s 320ms/step - loss: 0.0011\n",
            "Epoch 184/200\n",
            "18/18 [==============================] - 6s 319ms/step - loss: 0.0010\n",
            "Epoch 185/200\n",
            "18/18 [==============================] - 6s 319ms/step - loss: 0.0011\n",
            "Epoch 186/200\n",
            "18/18 [==============================] - 6s 319ms/step - loss: 0.0010\n",
            "Epoch 187/200\n",
            "18/18 [==============================] - 6s 317ms/step - loss: 0.0012\n",
            "Epoch 188/200\n",
            "18/18 [==============================] - 6s 317ms/step - loss: 9.2268e-04\n",
            "Epoch 189/200\n",
            "18/18 [==============================] - 6s 316ms/step - loss: 9.6854e-04\n",
            "Epoch 190/200\n",
            "18/18 [==============================] - 6s 317ms/step - loss: 0.0010\n",
            "Epoch 191/200\n",
            "18/18 [==============================] - 6s 317ms/step - loss: 0.0011\n",
            "Epoch 192/200\n",
            "18/18 [==============================] - 6s 316ms/step - loss: 9.3280e-04\n",
            "Epoch 193/200\n",
            "18/18 [==============================] - 6s 317ms/step - loss: 0.0011\n",
            "Epoch 194/200\n",
            "18/18 [==============================] - 6s 320ms/step - loss: 9.6827e-04\n",
            "Epoch 195/200\n",
            "18/18 [==============================] - 6s 318ms/step - loss: 9.1847e-04\n",
            "Epoch 196/200\n",
            "18/18 [==============================] - 6s 318ms/step - loss: 9.4545e-04\n",
            "Epoch 197/200\n",
            "18/18 [==============================] - 6s 320ms/step - loss: 0.0011\n",
            "Epoch 198/200\n",
            "18/18 [==============================] - 6s 317ms/step - loss: 9.9010e-04\n",
            "Epoch 199/200\n",
            "18/18 [==============================] - 6s 320ms/step - loss: 0.0012\n",
            "Epoch 200/200\n",
            "18/18 [==============================] - 6s 320ms/step - loss: 0.0010\n"
          ]
        },
        {
          "output_type": "execute_result",
          "data": {
            "text/plain": [
              "<keras.callbacks.History at 0x7f9b83be5190>"
            ]
          },
          "metadata": {},
          "execution_count": 27
        }
      ]
    },
    {
      "cell_type": "markdown",
      "source": [
        "### Saving the model"
      ],
      "metadata": {
        "id": "h5LMNpsNAdin"
      }
    },
    {
      "cell_type": "code",
      "source": [
        "regressor.save(drive_path + 'LSTM_h5_model_1.h5')"
      ],
      "metadata": {
        "id": "1mFmpe_NAdLW"
      },
      "execution_count": 28,
      "outputs": []
    },
    {
      "cell_type": "markdown",
      "source": [
        "### Loading the model"
      ],
      "metadata": {
        "id": "uN7oSz-7CbSh"
      }
    },
    {
      "cell_type": "code",
      "source": [
        "#regressor = keras.models.load_model(drive_path + 'LSTM_h5_model_1.h5')"
      ],
      "metadata": {
        "id": "IRGuRg5cBSzM"
      },
      "execution_count": 29,
      "outputs": []
    },
    {
      "cell_type": "markdown",
      "metadata": {
        "id": "4hRau_lIkrE8"
      },
      "source": [
        "## Part 3 - Making the predictions and visualising the results"
      ]
    },
    {
      "cell_type": "markdown",
      "metadata": {
        "id": "SgJO6qEDksxD"
      },
      "source": [
        "### Getting the real stock price of 2017"
      ]
    },
    {
      "cell_type": "code",
      "metadata": {
        "id": "FmBT2zqukxTz"
      },
      "source": [
        "dataset_test = pd.read_csv(drive_path + 'Google_Stock_Price_Test.csv')\n",
        "real_stock_price = dataset_test.iloc[:, 1:2].values"
      ],
      "execution_count": 30,
      "outputs": []
    },
    {
      "cell_type": "code",
      "source": [
        "dataset_test.head(3)"
      ],
      "metadata": {
        "id": "C9sor_bjmpO6",
        "colab": {
          "base_uri": "https://localhost:8080/",
          "height": 143
        },
        "outputId": "e73923d3-0434-46ff-a42b-fd0990b9b3d4"
      },
      "execution_count": 31,
      "outputs": [
        {
          "output_type": "execute_result",
          "data": {
            "text/html": [
              "\n",
              "  <div id=\"df-fd25cfa4-366b-4d69-b2d3-1030bc3f871c\">\n",
              "    <div class=\"colab-df-container\">\n",
              "      <div>\n",
              "<style scoped>\n",
              "    .dataframe tbody tr th:only-of-type {\n",
              "        vertical-align: middle;\n",
              "    }\n",
              "\n",
              "    .dataframe tbody tr th {\n",
              "        vertical-align: top;\n",
              "    }\n",
              "\n",
              "    .dataframe thead th {\n",
              "        text-align: right;\n",
              "    }\n",
              "</style>\n",
              "<table border=\"1\" class=\"dataframe\">\n",
              "  <thead>\n",
              "    <tr style=\"text-align: right;\">\n",
              "      <th></th>\n",
              "      <th>Date</th>\n",
              "      <th>Open</th>\n",
              "      <th>High</th>\n",
              "      <th>Low</th>\n",
              "      <th>Close</th>\n",
              "      <th>Volume</th>\n",
              "    </tr>\n",
              "  </thead>\n",
              "  <tbody>\n",
              "    <tr>\n",
              "      <th>0</th>\n",
              "      <td>1/3/2017</td>\n",
              "      <td>778.81</td>\n",
              "      <td>789.63</td>\n",
              "      <td>775.80</td>\n",
              "      <td>786.14</td>\n",
              "      <td>1,657,300</td>\n",
              "    </tr>\n",
              "    <tr>\n",
              "      <th>1</th>\n",
              "      <td>1/4/2017</td>\n",
              "      <td>788.36</td>\n",
              "      <td>791.34</td>\n",
              "      <td>783.16</td>\n",
              "      <td>786.90</td>\n",
              "      <td>1,073,000</td>\n",
              "    </tr>\n",
              "    <tr>\n",
              "      <th>2</th>\n",
              "      <td>1/5/2017</td>\n",
              "      <td>786.08</td>\n",
              "      <td>794.48</td>\n",
              "      <td>785.02</td>\n",
              "      <td>794.02</td>\n",
              "      <td>1,335,200</td>\n",
              "    </tr>\n",
              "  </tbody>\n",
              "</table>\n",
              "</div>\n",
              "      <button class=\"colab-df-convert\" onclick=\"convertToInteractive('df-fd25cfa4-366b-4d69-b2d3-1030bc3f871c')\"\n",
              "              title=\"Convert this dataframe to an interactive table.\"\n",
              "              style=\"display:none;\">\n",
              "        \n",
              "  <svg xmlns=\"http://www.w3.org/2000/svg\" height=\"24px\"viewBox=\"0 0 24 24\"\n",
              "       width=\"24px\">\n",
              "    <path d=\"M0 0h24v24H0V0z\" fill=\"none\"/>\n",
              "    <path d=\"M18.56 5.44l.94 2.06.94-2.06 2.06-.94-2.06-.94-.94-2.06-.94 2.06-2.06.94zm-11 1L8.5 8.5l.94-2.06 2.06-.94-2.06-.94L8.5 2.5l-.94 2.06-2.06.94zm10 10l.94 2.06.94-2.06 2.06-.94-2.06-.94-.94-2.06-.94 2.06-2.06.94z\"/><path d=\"M17.41 7.96l-1.37-1.37c-.4-.4-.92-.59-1.43-.59-.52 0-1.04.2-1.43.59L10.3 9.45l-7.72 7.72c-.78.78-.78 2.05 0 2.83L4 21.41c.39.39.9.59 1.41.59.51 0 1.02-.2 1.41-.59l7.78-7.78 2.81-2.81c.8-.78.8-2.07 0-2.86zM5.41 20L4 18.59l7.72-7.72 1.47 1.35L5.41 20z\"/>\n",
              "  </svg>\n",
              "      </button>\n",
              "      \n",
              "  <style>\n",
              "    .colab-df-container {\n",
              "      display:flex;\n",
              "      flex-wrap:wrap;\n",
              "      gap: 12px;\n",
              "    }\n",
              "\n",
              "    .colab-df-convert {\n",
              "      background-color: #E8F0FE;\n",
              "      border: none;\n",
              "      border-radius: 50%;\n",
              "      cursor: pointer;\n",
              "      display: none;\n",
              "      fill: #1967D2;\n",
              "      height: 32px;\n",
              "      padding: 0 0 0 0;\n",
              "      width: 32px;\n",
              "    }\n",
              "\n",
              "    .colab-df-convert:hover {\n",
              "      background-color: #E2EBFA;\n",
              "      box-shadow: 0px 1px 2px rgba(60, 64, 67, 0.3), 0px 1px 3px 1px rgba(60, 64, 67, 0.15);\n",
              "      fill: #174EA6;\n",
              "    }\n",
              "\n",
              "    [theme=dark] .colab-df-convert {\n",
              "      background-color: #3B4455;\n",
              "      fill: #D2E3FC;\n",
              "    }\n",
              "\n",
              "    [theme=dark] .colab-df-convert:hover {\n",
              "      background-color: #434B5C;\n",
              "      box-shadow: 0px 1px 3px 1px rgba(0, 0, 0, 0.15);\n",
              "      filter: drop-shadow(0px 1px 2px rgba(0, 0, 0, 0.3));\n",
              "      fill: #FFFFFF;\n",
              "    }\n",
              "  </style>\n",
              "\n",
              "      <script>\n",
              "        const buttonEl =\n",
              "          document.querySelector('#df-fd25cfa4-366b-4d69-b2d3-1030bc3f871c button.colab-df-convert');\n",
              "        buttonEl.style.display =\n",
              "          google.colab.kernel.accessAllowed ? 'block' : 'none';\n",
              "\n",
              "        async function convertToInteractive(key) {\n",
              "          const element = document.querySelector('#df-fd25cfa4-366b-4d69-b2d3-1030bc3f871c');\n",
              "          const dataTable =\n",
              "            await google.colab.kernel.invokeFunction('convertToInteractive',\n",
              "                                                     [key], {});\n",
              "          if (!dataTable) return;\n",
              "\n",
              "          const docLinkHtml = 'Like what you see? Visit the ' +\n",
              "            '<a target=\"_blank\" href=https://colab.research.google.com/notebooks/data_table.ipynb>data table notebook</a>'\n",
              "            + ' to learn more about interactive tables.';\n",
              "          element.innerHTML = '';\n",
              "          dataTable['output_type'] = 'display_data';\n",
              "          await google.colab.output.renderOutput(dataTable, element);\n",
              "          const docLink = document.createElement('div');\n",
              "          docLink.innerHTML = docLinkHtml;\n",
              "          element.appendChild(docLink);\n",
              "        }\n",
              "      </script>\n",
              "    </div>\n",
              "  </div>\n",
              "  "
            ],
            "text/plain": [
              "       Date    Open    High     Low   Close     Volume\n",
              "0  1/3/2017  778.81  789.63  775.80  786.14  1,657,300\n",
              "1  1/4/2017  788.36  791.34  783.16  786.90  1,073,000\n",
              "2  1/5/2017  786.08  794.48  785.02  794.02  1,335,200"
            ]
          },
          "metadata": {},
          "execution_count": 31
        }
      ]
    },
    {
      "cell_type": "code",
      "source": [
        "real_stock_price[: 3]"
      ],
      "metadata": {
        "id": "5rOcQKmFmpor",
        "colab": {
          "base_uri": "https://localhost:8080/"
        },
        "outputId": "0c3b5d46-7ef5-4193-e7b2-ea5d44160ed3"
      },
      "execution_count": 32,
      "outputs": [
        {
          "output_type": "execute_result",
          "data": {
            "text/plain": [
              "array([[778.81],\n",
              "       [788.36],\n",
              "       [786.08]])"
            ]
          },
          "metadata": {},
          "execution_count": 32
        }
      ]
    },
    {
      "cell_type": "markdown",
      "metadata": {
        "id": "GrvrLblxkz42"
      },
      "source": [
        "### Getting the predicted stock price of 2017"
      ]
    },
    {
      "cell_type": "code",
      "source": [
        "dataset_test.shape"
      ],
      "metadata": {
        "id": "7XOfrPAFpqY8",
        "colab": {
          "base_uri": "https://localhost:8080/"
        },
        "outputId": "3e4242c5-74c2-4b31-ebae-8c6bad561fc7"
      },
      "execution_count": 33,
      "outputs": [
        {
          "output_type": "execute_result",
          "data": {
            "text/plain": [
              "(20, 6)"
            ]
          },
          "metadata": {},
          "execution_count": 33
        }
      ]
    },
    {
      "cell_type": "code",
      "metadata": {
        "id": "emikTvUpk3Ck"
      },
      "source": [
        "dataset_total = pd.concat((dataset_train['Open'], dataset_test['Open']), axis = 0)\n",
        "inputs = dataset_total[len(dataset_total) - len(dataset_test) - 120:].values\n",
        "inputs = inputs.reshape(-1,1)\n",
        "inputs = sc.transform(inputs)\n",
        "X_test = []\n",
        "for i in range(120, 140):\n",
        "    X_test.append(inputs[i-120:i, 0])\n",
        "X_test = np.array(X_test)\n",
        "X_test = np.reshape(X_test, (X_test.shape[0], X_test.shape[1], 1))\n",
        "predicted_stock_price = regressor.predict(X_test)\n",
        "predicted_stock_price = sc.inverse_transform(predicted_stock_price)"
      ],
      "execution_count": 34,
      "outputs": []
    },
    {
      "cell_type": "code",
      "source": [
        "rmse = math.sqrt(mean_squared_error(real_stock_price, predicted_stock_price))\n",
        "print(rmse)"
      ],
      "metadata": {
        "colab": {
          "base_uri": "https://localhost:8080/"
        },
        "id": "wANmJWRhwn3s",
        "outputId": "ab65e8c5-7bce-4865-ddfc-beaf1aa6a3de"
      },
      "execution_count": 35,
      "outputs": [
        {
          "output_type": "stream",
          "name": "stdout",
          "text": [
            "12.389539486938073\n"
          ]
        }
      ]
    },
    {
      "cell_type": "markdown",
      "metadata": {
        "id": "iFTNs3YHk6FQ"
      },
      "source": [
        "### Visualising the results"
      ]
    },
    {
      "cell_type": "code",
      "metadata": {
        "id": "8OUI8U49k9tH",
        "colab": {
          "base_uri": "https://localhost:8080/",
          "height": 295
        },
        "outputId": "900aa672-e955-4e4c-f92d-3b269e763e60"
      },
      "source": [
        "plt.plot(real_stock_price, color = 'red', label = 'Real Google Stock Prices/Directions')\n",
        "plt.plot(predicted_stock_price, color = 'blue', label = 'Predicted Google Stock Prices/Directions')\n",
        "plt.title('Google Stock Price Prediction')\n",
        "plt.xlabel('Time')\n",
        "plt.ylabel('Google Stock Price')\n",
        "plt.legend()\n",
        "plt.show()"
      ],
      "execution_count": 36,
      "outputs": [
        {
          "output_type": "display_data",
          "data": {
            "image/png": "[encoded data removed]",
            "text/plain": [
              "<Figure size 432x288 with 1 Axes>"
            ]
          },
          "metadata": {
            "needs_background": "light"
          }
        }
      ]
    }
  ]
}
